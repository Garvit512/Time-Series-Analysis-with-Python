{
 "cells": [
  {
   "cell_type": "markdown",
   "metadata": {},
   "source": [
    "Date: 14 Oct 2020\n",
    "\n",
    "Reference:\n",
    "https://www.analyticsvidhya.com/blog/2018/09/multivariate-time-series-guide-forecasting-modeling-python-codes/"
   ]
  },
  {
   "cell_type": "markdown",
   "metadata": {},
   "source": [
    "# 1- Multivariate Time Series"
   ]
  },
  {
   "cell_type": "markdown",
   "metadata": {},
   "source": [
    "# => Vector Auto Regression (VAR)"
   ]
  },
  {
   "cell_type": "markdown",
   "metadata": {},
   "source": [
    "## Stationarity of a Multivariate Time Series"
   ]
  },
  {
   "cell_type": "markdown",
   "metadata": {},
   "source": [
    "like we've **Dickey-Fuller test** to check stationarity of univariate time series, similarly we have **Johansen test** to check stationarity of multivariate time series."
   ]
  },
  {
   "cell_type": "markdown",
   "metadata": {},
   "source": [
    "## Implemenation of VAR"
   ]
  },
  {
   "cell_type": "code",
   "execution_count": 287,
   "metadata": {
    "ExecuteTime": {
     "end_time": "2020-10-14T13:34:04.384073Z",
     "start_time": "2020-10-14T13:34:04.378521Z"
    }
   },
   "outputs": [],
   "source": [
    "import pandas as pd\n",
    "import matplotlib.pyplot as plt"
   ]
  },
  {
   "cell_type": "code",
   "execution_count": 288,
   "metadata": {
    "ExecuteTime": {
     "end_time": "2020-10-14T13:34:04.688584Z",
     "start_time": "2020-10-14T13:34:04.469675Z"
    }
   },
   "outputs": [],
   "source": [
    "df = pd.read_csv('/home/garvit/Datasets/AirQualityUCI/AirQualityUCI.csv', header=0, delimiter=';',  parse_dates=[['Date', 'Time']])"
   ]
  },
  {
   "cell_type": "code",
   "execution_count": 289,
   "metadata": {
    "ExecuteTime": {
     "end_time": "2020-10-14T13:34:04.792135Z",
     "start_time": "2020-10-14T13:34:04.690454Z"
    }
   },
   "outputs": [
    {
     "data": {
      "text/html": [
       "<div>\n",
       "<style scoped>\n",
       "    .dataframe tbody tr th:only-of-type {\n",
       "        vertical-align: middle;\n",
       "    }\n",
       "\n",
       "    .dataframe tbody tr th {\n",
       "        vertical-align: top;\n",
       "    }\n",
       "\n",
       "    .dataframe thead th {\n",
       "        text-align: right;\n",
       "    }\n",
       "</style>\n",
       "<table border=\"1\" class=\"dataframe\">\n",
       "  <thead>\n",
       "    <tr style=\"text-align: right;\">\n",
       "      <th></th>\n",
       "      <th>Date_Time</th>\n",
       "      <th>CO(GT)</th>\n",
       "      <th>PT08.S1(CO)</th>\n",
       "      <th>NMHC(GT)</th>\n",
       "      <th>C6H6(GT)</th>\n",
       "      <th>PT08.S2(NMHC)</th>\n",
       "      <th>NOx(GT)</th>\n",
       "      <th>PT08.S3(NOx)</th>\n",
       "      <th>NO2(GT)</th>\n",
       "      <th>PT08.S4(NO2)</th>\n",
       "      <th>PT08.S5(O3)</th>\n",
       "      <th>T</th>\n",
       "      <th>RH</th>\n",
       "      <th>AH</th>\n",
       "      <th>Unnamed: 15</th>\n",
       "      <th>Unnamed: 16</th>\n",
       "    </tr>\n",
       "  </thead>\n",
       "  <tbody>\n",
       "    <tr>\n",
       "      <th>0</th>\n",
       "      <td>10/03/2004 18.00.00</td>\n",
       "      <td>2,6</td>\n",
       "      <td>1360.0</td>\n",
       "      <td>150.0</td>\n",
       "      <td>11,9</td>\n",
       "      <td>1046.0</td>\n",
       "      <td>166.0</td>\n",
       "      <td>1056.0</td>\n",
       "      <td>113.0</td>\n",
       "      <td>1692.0</td>\n",
       "      <td>1268.0</td>\n",
       "      <td>13,6</td>\n",
       "      <td>48,9</td>\n",
       "      <td>0,7578</td>\n",
       "      <td>NaN</td>\n",
       "      <td>NaN</td>\n",
       "    </tr>\n",
       "    <tr>\n",
       "      <th>1</th>\n",
       "      <td>10/03/2004 19.00.00</td>\n",
       "      <td>2</td>\n",
       "      <td>1292.0</td>\n",
       "      <td>112.0</td>\n",
       "      <td>9,4</td>\n",
       "      <td>955.0</td>\n",
       "      <td>103.0</td>\n",
       "      <td>1174.0</td>\n",
       "      <td>92.0</td>\n",
       "      <td>1559.0</td>\n",
       "      <td>972.0</td>\n",
       "      <td>13,3</td>\n",
       "      <td>47,7</td>\n",
       "      <td>0,7255</td>\n",
       "      <td>NaN</td>\n",
       "      <td>NaN</td>\n",
       "    </tr>\n",
       "    <tr>\n",
       "      <th>2</th>\n",
       "      <td>10/03/2004 20.00.00</td>\n",
       "      <td>2,2</td>\n",
       "      <td>1402.0</td>\n",
       "      <td>88.0</td>\n",
       "      <td>9,0</td>\n",
       "      <td>939.0</td>\n",
       "      <td>131.0</td>\n",
       "      <td>1140.0</td>\n",
       "      <td>114.0</td>\n",
       "      <td>1555.0</td>\n",
       "      <td>1074.0</td>\n",
       "      <td>11,9</td>\n",
       "      <td>54,0</td>\n",
       "      <td>0,7502</td>\n",
       "      <td>NaN</td>\n",
       "      <td>NaN</td>\n",
       "    </tr>\n",
       "  </tbody>\n",
       "</table>\n",
       "</div>"
      ],
      "text/plain": [
       "             Date_Time CO(GT)  PT08.S1(CO)  NMHC(GT) C6H6(GT)  PT08.S2(NMHC)  \\\n",
       "0  10/03/2004 18.00.00    2,6       1360.0     150.0     11,9         1046.0   \n",
       "1  10/03/2004 19.00.00      2       1292.0     112.0      9,4          955.0   \n",
       "2  10/03/2004 20.00.00    2,2       1402.0      88.0      9,0          939.0   \n",
       "\n",
       "   NOx(GT)  PT08.S3(NOx)  NO2(GT)  PT08.S4(NO2)  PT08.S5(O3)     T    RH  \\\n",
       "0    166.0        1056.0    113.0        1692.0       1268.0  13,6  48,9   \n",
       "1    103.0        1174.0     92.0        1559.0        972.0  13,3  47,7   \n",
       "2    131.0        1140.0    114.0        1555.0       1074.0  11,9  54,0   \n",
       "\n",
       "       AH  Unnamed: 15  Unnamed: 16  \n",
       "0  0,7578          NaN          NaN  \n",
       "1  0,7255          NaN          NaN  \n",
       "2  0,7502          NaN          NaN  "
      ]
     },
     "execution_count": 289,
     "metadata": {},
     "output_type": "execute_result"
    }
   ],
   "source": [
    "df.head(3)"
   ]
  },
  {
   "cell_type": "code",
   "execution_count": 290,
   "metadata": {
    "ExecuteTime": {
     "end_time": "2020-10-14T13:34:04.909560Z",
     "start_time": "2020-10-14T13:34:04.794445Z"
    }
   },
   "outputs": [
    {
     "data": {
      "text/plain": [
       "Date_Time        9471\n",
       "CO(GT)           9357\n",
       "PT08.S1(CO)      9357\n",
       "NMHC(GT)         9357\n",
       "C6H6(GT)         9357\n",
       "PT08.S2(NMHC)    9357\n",
       "NOx(GT)          9357\n",
       "PT08.S3(NOx)     9357\n",
       "NO2(GT)          9357\n",
       "PT08.S4(NO2)     9357\n",
       "PT08.S5(O3)      9357\n",
       "T                9357\n",
       "RH               9357\n",
       "AH               9357\n",
       "Unnamed: 15         0\n",
       "Unnamed: 16         0\n",
       "dtype: int64"
      ]
     },
     "execution_count": 290,
     "metadata": {},
     "output_type": "execute_result"
    }
   ],
   "source": [
    "df.count()"
   ]
  },
  {
   "cell_type": "code",
   "execution_count": 291,
   "metadata": {
    "ExecuteTime": {
     "end_time": "2020-10-14T13:34:05.035392Z",
     "start_time": "2020-10-14T13:34:04.913001Z"
    }
   },
   "outputs": [
    {
     "data": {
      "text/html": [
       "<div>\n",
       "<style scoped>\n",
       "    .dataframe tbody tr th:only-of-type {\n",
       "        vertical-align: middle;\n",
       "    }\n",
       "\n",
       "    .dataframe tbody tr th {\n",
       "        vertical-align: top;\n",
       "    }\n",
       "\n",
       "    .dataframe thead th {\n",
       "        text-align: right;\n",
       "    }\n",
       "</style>\n",
       "<table border=\"1\" class=\"dataframe\">\n",
       "  <thead>\n",
       "    <tr style=\"text-align: right;\">\n",
       "      <th></th>\n",
       "      <th>Date_Time</th>\n",
       "      <th>CO(GT)</th>\n",
       "      <th>PT08.S1(CO)</th>\n",
       "      <th>NMHC(GT)</th>\n",
       "      <th>C6H6(GT)</th>\n",
       "      <th>PT08.S2(NMHC)</th>\n",
       "      <th>NOx(GT)</th>\n",
       "      <th>PT08.S3(NOx)</th>\n",
       "      <th>NO2(GT)</th>\n",
       "      <th>PT08.S4(NO2)</th>\n",
       "      <th>PT08.S5(O3)</th>\n",
       "      <th>T</th>\n",
       "      <th>RH</th>\n",
       "      <th>AH</th>\n",
       "      <th>Unnamed: 15</th>\n",
       "      <th>Unnamed: 16</th>\n",
       "    </tr>\n",
       "  </thead>\n",
       "  <tbody>\n",
       "    <tr>\n",
       "      <th>9466</th>\n",
       "      <td>nan nan</td>\n",
       "      <td>NaN</td>\n",
       "      <td>NaN</td>\n",
       "      <td>NaN</td>\n",
       "      <td>NaN</td>\n",
       "      <td>NaN</td>\n",
       "      <td>NaN</td>\n",
       "      <td>NaN</td>\n",
       "      <td>NaN</td>\n",
       "      <td>NaN</td>\n",
       "      <td>NaN</td>\n",
       "      <td>NaN</td>\n",
       "      <td>NaN</td>\n",
       "      <td>NaN</td>\n",
       "      <td>NaN</td>\n",
       "      <td>NaN</td>\n",
       "    </tr>\n",
       "    <tr>\n",
       "      <th>9467</th>\n",
       "      <td>nan nan</td>\n",
       "      <td>NaN</td>\n",
       "      <td>NaN</td>\n",
       "      <td>NaN</td>\n",
       "      <td>NaN</td>\n",
       "      <td>NaN</td>\n",
       "      <td>NaN</td>\n",
       "      <td>NaN</td>\n",
       "      <td>NaN</td>\n",
       "      <td>NaN</td>\n",
       "      <td>NaN</td>\n",
       "      <td>NaN</td>\n",
       "      <td>NaN</td>\n",
       "      <td>NaN</td>\n",
       "      <td>NaN</td>\n",
       "      <td>NaN</td>\n",
       "    </tr>\n",
       "    <tr>\n",
       "      <th>9468</th>\n",
       "      <td>nan nan</td>\n",
       "      <td>NaN</td>\n",
       "      <td>NaN</td>\n",
       "      <td>NaN</td>\n",
       "      <td>NaN</td>\n",
       "      <td>NaN</td>\n",
       "      <td>NaN</td>\n",
       "      <td>NaN</td>\n",
       "      <td>NaN</td>\n",
       "      <td>NaN</td>\n",
       "      <td>NaN</td>\n",
       "      <td>NaN</td>\n",
       "      <td>NaN</td>\n",
       "      <td>NaN</td>\n",
       "      <td>NaN</td>\n",
       "      <td>NaN</td>\n",
       "    </tr>\n",
       "    <tr>\n",
       "      <th>9469</th>\n",
       "      <td>nan nan</td>\n",
       "      <td>NaN</td>\n",
       "      <td>NaN</td>\n",
       "      <td>NaN</td>\n",
       "      <td>NaN</td>\n",
       "      <td>NaN</td>\n",
       "      <td>NaN</td>\n",
       "      <td>NaN</td>\n",
       "      <td>NaN</td>\n",
       "      <td>NaN</td>\n",
       "      <td>NaN</td>\n",
       "      <td>NaN</td>\n",
       "      <td>NaN</td>\n",
       "      <td>NaN</td>\n",
       "      <td>NaN</td>\n",
       "      <td>NaN</td>\n",
       "    </tr>\n",
       "    <tr>\n",
       "      <th>9470</th>\n",
       "      <td>nan nan</td>\n",
       "      <td>NaN</td>\n",
       "      <td>NaN</td>\n",
       "      <td>NaN</td>\n",
       "      <td>NaN</td>\n",
       "      <td>NaN</td>\n",
       "      <td>NaN</td>\n",
       "      <td>NaN</td>\n",
       "      <td>NaN</td>\n",
       "      <td>NaN</td>\n",
       "      <td>NaN</td>\n",
       "      <td>NaN</td>\n",
       "      <td>NaN</td>\n",
       "      <td>NaN</td>\n",
       "      <td>NaN</td>\n",
       "      <td>NaN</td>\n",
       "    </tr>\n",
       "  </tbody>\n",
       "</table>\n",
       "</div>"
      ],
      "text/plain": [
       "     Date_Time CO(GT)  PT08.S1(CO)  NMHC(GT) C6H6(GT)  PT08.S2(NMHC)  NOx(GT)  \\\n",
       "9466   nan nan    NaN          NaN       NaN      NaN            NaN      NaN   \n",
       "9467   nan nan    NaN          NaN       NaN      NaN            NaN      NaN   \n",
       "9468   nan nan    NaN          NaN       NaN      NaN            NaN      NaN   \n",
       "9469   nan nan    NaN          NaN       NaN      NaN            NaN      NaN   \n",
       "9470   nan nan    NaN          NaN       NaN      NaN            NaN      NaN   \n",
       "\n",
       "      PT08.S3(NOx)  NO2(GT)  PT08.S4(NO2)  PT08.S5(O3)    T   RH   AH  \\\n",
       "9466           NaN      NaN           NaN          NaN  NaN  NaN  NaN   \n",
       "9467           NaN      NaN           NaN          NaN  NaN  NaN  NaN   \n",
       "9468           NaN      NaN           NaN          NaN  NaN  NaN  NaN   \n",
       "9469           NaN      NaN           NaN          NaN  NaN  NaN  NaN   \n",
       "9470           NaN      NaN           NaN          NaN  NaN  NaN  NaN   \n",
       "\n",
       "      Unnamed: 15  Unnamed: 16  \n",
       "9466          NaN          NaN  \n",
       "9467          NaN          NaN  \n",
       "9468          NaN          NaN  \n",
       "9469          NaN          NaN  \n",
       "9470          NaN          NaN  "
      ]
     },
     "execution_count": 291,
     "metadata": {},
     "output_type": "execute_result"
    }
   ],
   "source": [
    "df.tail()"
   ]
  },
  {
   "cell_type": "code",
   "execution_count": 292,
   "metadata": {
    "ExecuteTime": {
     "end_time": "2020-10-14T13:34:05.149499Z",
     "start_time": "2020-10-14T13:34:05.037447Z"
    }
   },
   "outputs": [],
   "source": [
    "# filtering/removing/negating nan valies\n",
    "df = df[~df['Date_Time'].str.contains('nan nan')]"
   ]
  },
  {
   "cell_type": "code",
   "execution_count": 293,
   "metadata": {
    "ExecuteTime": {
     "end_time": "2020-10-14T13:34:05.311815Z",
     "start_time": "2020-10-14T13:34:05.152160Z"
    }
   },
   "outputs": [
    {
     "data": {
      "text/html": [
       "<div>\n",
       "<style scoped>\n",
       "    .dataframe tbody tr th:only-of-type {\n",
       "        vertical-align: middle;\n",
       "    }\n",
       "\n",
       "    .dataframe tbody tr th {\n",
       "        vertical-align: top;\n",
       "    }\n",
       "\n",
       "    .dataframe thead th {\n",
       "        text-align: right;\n",
       "    }\n",
       "</style>\n",
       "<table border=\"1\" class=\"dataframe\">\n",
       "  <thead>\n",
       "    <tr style=\"text-align: right;\">\n",
       "      <th></th>\n",
       "      <th>CO(GT)</th>\n",
       "      <th>PT08.S1(CO)</th>\n",
       "      <th>NMHC(GT)</th>\n",
       "      <th>C6H6(GT)</th>\n",
       "      <th>PT08.S2(NMHC)</th>\n",
       "      <th>NOx(GT)</th>\n",
       "      <th>PT08.S3(NOx)</th>\n",
       "      <th>NO2(GT)</th>\n",
       "      <th>PT08.S4(NO2)</th>\n",
       "      <th>PT08.S5(O3)</th>\n",
       "      <th>T</th>\n",
       "      <th>RH</th>\n",
       "      <th>AH</th>\n",
       "      <th>Unnamed: 15</th>\n",
       "      <th>Unnamed: 16</th>\n",
       "    </tr>\n",
       "    <tr>\n",
       "      <th>Date_Time</th>\n",
       "      <th></th>\n",
       "      <th></th>\n",
       "      <th></th>\n",
       "      <th></th>\n",
       "      <th></th>\n",
       "      <th></th>\n",
       "      <th></th>\n",
       "      <th></th>\n",
       "      <th></th>\n",
       "      <th></th>\n",
       "      <th></th>\n",
       "      <th></th>\n",
       "      <th></th>\n",
       "      <th></th>\n",
       "      <th></th>\n",
       "    </tr>\n",
       "  </thead>\n",
       "  <tbody>\n",
       "    <tr>\n",
       "      <th>2004-03-10 18:00:00</th>\n",
       "      <td>2,6</td>\n",
       "      <td>1360.0</td>\n",
       "      <td>150.0</td>\n",
       "      <td>11,9</td>\n",
       "      <td>1046.0</td>\n",
       "      <td>166.0</td>\n",
       "      <td>1056.0</td>\n",
       "      <td>113.0</td>\n",
       "      <td>1692.0</td>\n",
       "      <td>1268.0</td>\n",
       "      <td>13,6</td>\n",
       "      <td>48,9</td>\n",
       "      <td>0,7578</td>\n",
       "      <td>NaN</td>\n",
       "      <td>NaN</td>\n",
       "    </tr>\n",
       "    <tr>\n",
       "      <th>2004-03-10 19:00:00</th>\n",
       "      <td>2</td>\n",
       "      <td>1292.0</td>\n",
       "      <td>112.0</td>\n",
       "      <td>9,4</td>\n",
       "      <td>955.0</td>\n",
       "      <td>103.0</td>\n",
       "      <td>1174.0</td>\n",
       "      <td>92.0</td>\n",
       "      <td>1559.0</td>\n",
       "      <td>972.0</td>\n",
       "      <td>13,3</td>\n",
       "      <td>47,7</td>\n",
       "      <td>0,7255</td>\n",
       "      <td>NaN</td>\n",
       "      <td>NaN</td>\n",
       "    </tr>\n",
       "    <tr>\n",
       "      <th>2004-03-10 20:00:00</th>\n",
       "      <td>2,2</td>\n",
       "      <td>1402.0</td>\n",
       "      <td>88.0</td>\n",
       "      <td>9,0</td>\n",
       "      <td>939.0</td>\n",
       "      <td>131.0</td>\n",
       "      <td>1140.0</td>\n",
       "      <td>114.0</td>\n",
       "      <td>1555.0</td>\n",
       "      <td>1074.0</td>\n",
       "      <td>11,9</td>\n",
       "      <td>54,0</td>\n",
       "      <td>0,7502</td>\n",
       "      <td>NaN</td>\n",
       "      <td>NaN</td>\n",
       "    </tr>\n",
       "    <tr>\n",
       "      <th>2004-03-10 21:00:00</th>\n",
       "      <td>2,2</td>\n",
       "      <td>1376.0</td>\n",
       "      <td>80.0</td>\n",
       "      <td>9,2</td>\n",
       "      <td>948.0</td>\n",
       "      <td>172.0</td>\n",
       "      <td>1092.0</td>\n",
       "      <td>122.0</td>\n",
       "      <td>1584.0</td>\n",
       "      <td>1203.0</td>\n",
       "      <td>11,0</td>\n",
       "      <td>60,0</td>\n",
       "      <td>0,7867</td>\n",
       "      <td>NaN</td>\n",
       "      <td>NaN</td>\n",
       "    </tr>\n",
       "  </tbody>\n",
       "</table>\n",
       "</div>"
      ],
      "text/plain": [
       "                    CO(GT)  PT08.S1(CO)  NMHC(GT) C6H6(GT)  PT08.S2(NMHC)  \\\n",
       "Date_Time                                                                   \n",
       "2004-03-10 18:00:00    2,6       1360.0     150.0     11,9         1046.0   \n",
       "2004-03-10 19:00:00      2       1292.0     112.0      9,4          955.0   \n",
       "2004-03-10 20:00:00    2,2       1402.0      88.0      9,0          939.0   \n",
       "2004-03-10 21:00:00    2,2       1376.0      80.0      9,2          948.0   \n",
       "\n",
       "                     NOx(GT)  PT08.S3(NOx)  NO2(GT)  PT08.S4(NO2)  \\\n",
       "Date_Time                                                           \n",
       "2004-03-10 18:00:00    166.0        1056.0    113.0        1692.0   \n",
       "2004-03-10 19:00:00    103.0        1174.0     92.0        1559.0   \n",
       "2004-03-10 20:00:00    131.0        1140.0    114.0        1555.0   \n",
       "2004-03-10 21:00:00    172.0        1092.0    122.0        1584.0   \n",
       "\n",
       "                     PT08.S5(O3)     T    RH      AH  Unnamed: 15  Unnamed: 16  \n",
       "Date_Time                                                                       \n",
       "2004-03-10 18:00:00       1268.0  13,6  48,9  0,7578          NaN          NaN  \n",
       "2004-03-10 19:00:00        972.0  13,3  47,7  0,7255          NaN          NaN  \n",
       "2004-03-10 20:00:00       1074.0  11,9  54,0  0,7502          NaN          NaN  \n",
       "2004-03-10 21:00:00       1203.0  11,0  60,0  0,7867          NaN          NaN  "
      ]
     },
     "execution_count": 293,
     "metadata": {},
     "output_type": "execute_result"
    }
   ],
   "source": [
    "df['Date_Time'] = pd.to_datetime(df['Date_Time'], format='%d/%m/%Y %H.%M.%S')\n",
    "# data = .index = data['Da']\n",
    "# data = df.drop(columns= ['Date_Time'], axis=1)\n",
    "data = df\n",
    "data.index = data['Date_Time']\n",
    "data = data.drop(columns=['Date_Time'], axis=1)\n",
    "data.head(4)"
   ]
  },
  {
   "cell_type": "markdown",
   "metadata": {},
   "source": [
    "### Handling missing values\n",
    "\n",
    "Handling (replacing with previous one) missing values in the data that are replaced with a value -200 from source side"
   ]
  },
  {
   "cell_type": "code",
   "execution_count": 294,
   "metadata": {
    "ExecuteTime": {
     "end_time": "2020-10-14T13:34:06.862402Z",
     "start_time": "2020-10-14T13:34:05.313830Z"
    }
   },
   "outputs": [
    {
     "name": "stderr",
     "output_type": "stream",
     "text": [
      "/home/garvit/anaconda3/envs/time_series/lib/python3.7/site-packages/ipykernel_launcher.py:5: SettingWithCopyWarning: \n",
      "A value is trying to be set on a copy of a slice from a DataFrame\n",
      "\n",
      "See the caveats in the documentation: https://pandas.pydata.org/pandas-docs/stable/user_guide/indexing.html#returning-a-view-versus-a-copy\n",
      "  \"\"\"\n"
     ]
    }
   ],
   "source": [
    "cols = data.columns\n",
    "for i in cols:\n",
    "    for j in range(0, len(data)):\n",
    "        if data[i][j] == -200:\n",
    "            data[i][j] = data[i][j-1]"
   ]
  },
  {
   "cell_type": "markdown",
   "metadata": {},
   "source": [
    "### checking stationarity"
   ]
  },
  {
   "cell_type": "code",
   "execution_count": 295,
   "metadata": {
    "ExecuteTime": {
     "end_time": "2020-10-14T13:34:06.868503Z",
     "start_time": "2020-10-14T13:34:06.864195Z"
    }
   },
   "outputs": [
    {
     "data": {
      "text/plain": [
       "15"
      ]
     },
     "execution_count": 295,
     "metadata": {},
     "output_type": "execute_result"
    }
   ],
   "source": [
    "len(data.columns)"
   ]
  },
  {
   "cell_type": "code",
   "execution_count": 296,
   "metadata": {
    "ExecuteTime": {
     "end_time": "2020-10-14T13:34:07.163978Z",
     "start_time": "2020-10-14T13:34:06.870297Z"
    }
   },
   "outputs": [
    {
     "name": "stdout",
     "output_type": "stream",
     "text": [
      "<class 'pandas.core.frame.DataFrame'>\n",
      "DatetimeIndex: 9357 entries, 2004-03-10 18:00:00 to 2005-04-04 14:00:00\n",
      "Data columns (total 15 columns):\n",
      " #   Column         Non-Null Count  Dtype  \n",
      "---  ------         --------------  -----  \n",
      " 0   CO(GT)         9357 non-null   object \n",
      " 1   PT08.S1(CO)    9357 non-null   float64\n",
      " 2   NMHC(GT)       9357 non-null   float64\n",
      " 3   C6H6(GT)       9357 non-null   object \n",
      " 4   PT08.S2(NMHC)  9357 non-null   float64\n",
      " 5   NOx(GT)        9357 non-null   float64\n",
      " 6   PT08.S3(NOx)   9357 non-null   float64\n",
      " 7   NO2(GT)        9357 non-null   float64\n",
      " 8   PT08.S4(NO2)   9357 non-null   float64\n",
      " 9   PT08.S5(O3)    9357 non-null   float64\n",
      " 10  T              9357 non-null   object \n",
      " 11  RH             9357 non-null   object \n",
      " 12  AH             9357 non-null   object \n",
      " 13  Unnamed: 15    0 non-null      float64\n",
      " 14  Unnamed: 16    0 non-null      float64\n",
      "dtypes: float64(10), object(5)\n",
      "memory usage: 1.1+ MB\n"
     ]
    }
   ],
   "source": [
    "data.info()"
   ]
  },
  {
   "cell_type": "code",
   "execution_count": 297,
   "metadata": {
    "ExecuteTime": {
     "end_time": "2020-10-14T13:34:07.332356Z",
     "start_time": "2020-10-14T13:34:07.168323Z"
    }
   },
   "outputs": [],
   "source": [
    "# replacing ',' with '.' and converting in float\n",
    "\n",
    "data['C6H6(GT)'] = data['C6H6(GT)'].apply(lambda x: x.replace(',', '.')).astype(float)\n",
    "data['T'] = data['T'].apply(lambda x: x.replace(',', '.')).astype(float)\n",
    "data['RH'] = data['RH'].apply(lambda x: x.replace(',', '.')).astype(float)\n",
    "data['AH'] = data['AH'].apply(lambda x: x.replace(',', '.')).astype(float)"
   ]
  },
  {
   "cell_type": "code",
   "execution_count": 298,
   "metadata": {
    "ExecuteTime": {
     "end_time": "2020-10-14T13:34:07.505303Z",
     "start_time": "2020-10-14T13:34:07.334137Z"
    }
   },
   "outputs": [
    {
     "name": "stdout",
     "output_type": "stream",
     "text": [
      "<class 'pandas.core.frame.DataFrame'>\n",
      "DatetimeIndex: 9357 entries, 2004-03-10 18:00:00 to 2005-04-04 14:00:00\n",
      "Data columns (total 15 columns):\n",
      " #   Column         Non-Null Count  Dtype  \n",
      "---  ------         --------------  -----  \n",
      " 0   CO(GT)         9357 non-null   object \n",
      " 1   PT08.S1(CO)    9357 non-null   float64\n",
      " 2   NMHC(GT)       9357 non-null   float64\n",
      " 3   C6H6(GT)       9357 non-null   float64\n",
      " 4   PT08.S2(NMHC)  9357 non-null   float64\n",
      " 5   NOx(GT)        9357 non-null   float64\n",
      " 6   PT08.S3(NOx)   9357 non-null   float64\n",
      " 7   NO2(GT)        9357 non-null   float64\n",
      " 8   PT08.S4(NO2)   9357 non-null   float64\n",
      " 9   PT08.S5(O3)    9357 non-null   float64\n",
      " 10  T              9357 non-null   float64\n",
      " 11  RH             9357 non-null   float64\n",
      " 12  AH             9357 non-null   float64\n",
      " 13  Unnamed: 15    0 non-null      float64\n",
      " 14  Unnamed: 16    0 non-null      float64\n",
      "dtypes: float64(14), object(1)\n",
      "memory usage: 1.1+ MB\n"
     ]
    }
   ],
   "source": [
    "data.info()"
   ]
  },
  {
   "cell_type": "code",
   "execution_count": 299,
   "metadata": {
    "ExecuteTime": {
     "end_time": "2020-10-14T13:34:07.630276Z",
     "start_time": "2020-10-14T13:34:07.507912Z"
    }
   },
   "outputs": [
    {
     "data": {
      "text/plain": [
       "array([1.73518063e-01, 1.20384085e-01, 1.06001026e-01, 9.45525251e-02,\n",
       "       8.70937753e-02, 6.38980450e-02, 4.37227223e-02, 3.03206976e-02,\n",
       "       1.96865063e-02, 1.44202012e-02, 3.53886497e-03, 8.24216108e-05])"
      ]
     },
     "execution_count": 299,
     "metadata": {},
     "output_type": "execute_result"
    }
   ],
   "source": [
    "from statsmodels.tsa.vector_ar.vecm import coint_johansen\n",
    "\n",
    "#since the test works for only 12 variables, I have randomly dropped\n",
    "#in the next iteration, I would drop another and check the eigenvalues\n",
    "johan_test_temp = data.drop(columns=['CO(GT)', 'Unnamed: 15', 'Unnamed: 16'], axis=1)\n",
    "coint_johansen(johan_test_temp,-1,1).eig"
   ]
  },
  {
   "cell_type": "markdown",
   "metadata": {},
   "source": [
    "### train-validation set"
   ]
  },
  {
   "cell_type": "code",
   "execution_count": 300,
   "metadata": {
    "ExecuteTime": {
     "end_time": "2020-10-14T13:34:08.381872Z",
     "start_time": "2020-10-14T13:34:08.371205Z"
    }
   },
   "outputs": [],
   "source": [
    "train = data[:int(0.8*(len(data)))]\n",
    "valid = data[int(0.8*(len(data))):]"
   ]
  },
  {
   "cell_type": "markdown",
   "metadata": {},
   "source": [
    "### model"
   ]
  },
  {
   "cell_type": "code",
   "execution_count": 301,
   "metadata": {
    "ExecuteTime": {
     "end_time": "2020-10-14T13:34:09.112223Z",
     "start_time": "2020-10-14T13:34:09.103741Z"
    }
   },
   "outputs": [
    {
     "data": {
      "text/plain": [
       "pandas.core.frame.DataFrame"
      ]
     },
     "execution_count": 301,
     "metadata": {},
     "output_type": "execute_result"
    }
   ],
   "source": [
    "type(train)"
   ]
  },
  {
   "cell_type": "code",
   "execution_count": 302,
   "metadata": {
    "ExecuteTime": {
     "end_time": "2020-10-14T13:34:09.658581Z",
     "start_time": "2020-10-14T13:34:09.631650Z"
    }
   },
   "outputs": [
    {
     "name": "stdout",
     "output_type": "stream",
     "text": [
      "<class 'pandas.core.frame.DataFrame'>\n",
      "DatetimeIndex: 7485 entries, 2004-03-10 18:00:00 to 2005-01-16 14:00:00\n",
      "Data columns (total 15 columns):\n",
      " #   Column         Non-Null Count  Dtype  \n",
      "---  ------         --------------  -----  \n",
      " 0   CO(GT)         7485 non-null   object \n",
      " 1   PT08.S1(CO)    7485 non-null   float64\n",
      " 2   NMHC(GT)       7485 non-null   float64\n",
      " 3   C6H6(GT)       7485 non-null   float64\n",
      " 4   PT08.S2(NMHC)  7485 non-null   float64\n",
      " 5   NOx(GT)        7485 non-null   float64\n",
      " 6   PT08.S3(NOx)   7485 non-null   float64\n",
      " 7   NO2(GT)        7485 non-null   float64\n",
      " 8   PT08.S4(NO2)   7485 non-null   float64\n",
      " 9   PT08.S5(O3)    7485 non-null   float64\n",
      " 10  T              7485 non-null   float64\n",
      " 11  RH             7485 non-null   float64\n",
      " 12  AH             7485 non-null   float64\n",
      " 13  Unnamed: 15    0 non-null      float64\n",
      " 14  Unnamed: 16    0 non-null      float64\n",
      "dtypes: float64(14), object(1)\n",
      "memory usage: 935.6+ KB\n"
     ]
    }
   ],
   "source": [
    "train.info()"
   ]
  },
  {
   "cell_type": "code",
   "execution_count": 303,
   "metadata": {
    "ExecuteTime": {
     "end_time": "2020-10-14T13:34:10.423708Z",
     "start_time": "2020-10-14T13:34:10.404776Z"
    }
   },
   "outputs": [],
   "source": [
    "train = train.drop(columns=['CO(GT)', 'Unnamed: 15', 'Unnamed: 16'], axis=1)\n",
    "valid = valid.drop(columns=['CO(GT)', 'Unnamed: 15', 'Unnamed: 16'], axis=1)"
   ]
  },
  {
   "cell_type": "code",
   "execution_count": 304,
   "metadata": {
    "ExecuteTime": {
     "end_time": "2020-10-14T13:34:10.877446Z",
     "start_time": "2020-10-14T13:34:10.829591Z"
    }
   },
   "outputs": [
    {
     "name": "stderr",
     "output_type": "stream",
     "text": [
      "/home/garvit/anaconda3/envs/time_series/lib/python3.7/site-packages/statsmodels-0.12.0.dev0+295.gf1ea5b3f6-py3.7-linux-x86_64.egg/statsmodels/tsa/base/tsa_model.py:162: ValueWarning: No frequency information was provided, so inferred frequency H will be used.\n",
      "  % freq, ValueWarning)\n"
     ]
    }
   ],
   "source": [
    "from statsmodels.tsa.vector_ar.var_model import VAR\n",
    "\n",
    "model = VAR(endog=train)\n",
    "model_fit = model.fit()"
   ]
  },
  {
   "cell_type": "markdown",
   "metadata": {},
   "source": [
    "### Making Prediction on validation data"
   ]
  },
  {
   "cell_type": "code",
   "execution_count": 305,
   "metadata": {
    "ExecuteTime": {
     "end_time": "2020-10-14T13:34:11.915505Z",
     "start_time": "2020-10-14T13:34:11.886050Z"
    }
   },
   "outputs": [
    {
     "name": "stderr",
     "output_type": "stream",
     "text": [
      "/home/garvit/anaconda3/envs/time_series/lib/python3.7/site-packages/statsmodels-0.12.0.dev0+295.gf1ea5b3f6-py3.7-linux-x86_64.egg/statsmodels/base/wrapper.py:36: FutureWarning: y is a deprecated alias for endog, will be removed in version 0.11.0\n",
      "  obj = getattr(results, attr)\n"
     ]
    }
   ],
   "source": [
    "prediction = model_fit.forecast(model_fit.y, steps=len(valid))"
   ]
  },
  {
   "cell_type": "markdown",
   "metadata": {},
   "source": [
    "### Converting predictions to dataframe\n"
   ]
  },
  {
   "cell_type": "code",
   "execution_count": 306,
   "metadata": {
    "ExecuteTime": {
     "end_time": "2020-10-14T13:34:13.309217Z",
     "start_time": "2020-10-14T13:34:13.296661Z"
    }
   },
   "outputs": [
    {
     "data": {
      "text/plain": [
       "Index(['CO(GT)', 'PT08.S1(CO)', 'NMHC(GT)', 'C6H6(GT)', 'PT08.S2(NMHC)',\n",
       "       'NOx(GT)', 'PT08.S3(NOx)', 'NO2(GT)', 'PT08.S4(NO2)', 'PT08.S5(O3)',\n",
       "       'T', 'RH', 'AH', 'Unnamed: 15', 'Unnamed: 16'],\n",
       "      dtype='object')"
      ]
     },
     "execution_count": 306,
     "metadata": {},
     "output_type": "execute_result"
    }
   ],
   "source": [
    "cols"
   ]
  },
  {
   "cell_type": "code",
   "execution_count": 307,
   "metadata": {
    "ExecuteTime": {
     "end_time": "2020-10-14T13:34:14.339980Z",
     "start_time": "2020-10-14T13:34:14.326564Z"
    }
   },
   "outputs": [
    {
     "data": {
      "text/plain": [
       "Index(['PT08.S1(CO)', 'NMHC(GT)', 'C6H6(GT)', 'PT08.S2(NMHC)', 'NOx(GT)',\n",
       "       'PT08.S3(NOx)', 'NO2(GT)', 'PT08.S4(NO2)', 'PT08.S5(O3)', 'T', 'RH',\n",
       "       'AH'],\n",
       "      dtype='object')"
      ]
     },
     "execution_count": 307,
     "metadata": {},
     "output_type": "execute_result"
    }
   ],
   "source": [
    "new_cols = cols[1:len(cols)-2]\n",
    "new_cols"
   ]
  },
  {
   "cell_type": "code",
   "execution_count": 308,
   "metadata": {
    "ExecuteTime": {
     "end_time": "2020-10-14T13:34:16.166836Z",
     "start_time": "2020-10-14T13:34:14.662114Z"
    }
   },
   "outputs": [],
   "source": [
    "pred = pd.DataFrame(index=range(0,len(prediction)),columns=[new_cols])\n",
    "for i in range(0,12):\n",
    "    for j in range(0, len(prediction)):\n",
    "       pred.iloc[j][i] = prediction[j][i]"
   ]
  },
  {
   "cell_type": "code",
   "execution_count": 309,
   "metadata": {
    "ExecuteTime": {
     "end_time": "2020-10-14T13:34:16.183413Z",
     "start_time": "2020-10-14T13:34:16.168217Z"
    }
   },
   "outputs": [
    {
     "data": {
      "text/html": [
       "<div>\n",
       "<style scoped>\n",
       "    .dataframe tbody tr th:only-of-type {\n",
       "        vertical-align: middle;\n",
       "    }\n",
       "\n",
       "    .dataframe tbody tr th {\n",
       "        vertical-align: top;\n",
       "    }\n",
       "\n",
       "    .dataframe thead tr th {\n",
       "        text-align: left;\n",
       "    }\n",
       "</style>\n",
       "<table border=\"1\" class=\"dataframe\">\n",
       "  <thead>\n",
       "    <tr>\n",
       "      <th></th>\n",
       "      <th>PT08.S1(CO)</th>\n",
       "      <th>NMHC(GT)</th>\n",
       "      <th>C6H6(GT)</th>\n",
       "      <th>PT08.S2(NMHC)</th>\n",
       "      <th>NOx(GT)</th>\n",
       "      <th>PT08.S3(NOx)</th>\n",
       "      <th>NO2(GT)</th>\n",
       "      <th>PT08.S4(NO2)</th>\n",
       "      <th>PT08.S5(O3)</th>\n",
       "      <th>T</th>\n",
       "      <th>RH</th>\n",
       "      <th>AH</th>\n",
       "    </tr>\n",
       "  </thead>\n",
       "  <tbody>\n",
       "    <tr>\n",
       "      <th>0</th>\n",
       "      <td>856.239</td>\n",
       "      <td>274.397</td>\n",
       "      <td>2.55206</td>\n",
       "      <td>621.934</td>\n",
       "      <td>137.081</td>\n",
       "      <td>1117.66</td>\n",
       "      <td>89.8369</td>\n",
       "      <td>863.566</td>\n",
       "      <td>556.36</td>\n",
       "      <td>10.1905</td>\n",
       "      <td>33.0605</td>\n",
       "      <td>-0.192338</td>\n",
       "    </tr>\n",
       "    <tr>\n",
       "      <th>1</th>\n",
       "      <td>888.301</td>\n",
       "      <td>273.706</td>\n",
       "      <td>3.02895</td>\n",
       "      <td>660.803</td>\n",
       "      <td>157.604</td>\n",
       "      <td>1096.63</td>\n",
       "      <td>94.2247</td>\n",
       "      <td>909.602</td>\n",
       "      <td>614.966</td>\n",
       "      <td>9.0975</td>\n",
       "      <td>34.0318</td>\n",
       "      <td>-0.758105</td>\n",
       "    </tr>\n",
       "    <tr>\n",
       "      <th>2</th>\n",
       "      <td>915.929</td>\n",
       "      <td>272.907</td>\n",
       "      <td>3.3597</td>\n",
       "      <td>693.701</td>\n",
       "      <td>175.766</td>\n",
       "      <td>1078.47</td>\n",
       "      <td>98.155</td>\n",
       "      <td>948.471</td>\n",
       "      <td>668.015</td>\n",
       "      <td>8.10624</td>\n",
       "      <td>34.914</td>\n",
       "      <td>-1.27714</td>\n",
       "    </tr>\n",
       "    <tr>\n",
       "      <th>3</th>\n",
       "      <td>939.773</td>\n",
       "      <td>272</td>\n",
       "      <td>3.5697</td>\n",
       "      <td>721.578</td>\n",
       "      <td>191.785</td>\n",
       "      <td>1062.78</td>\n",
       "      <td>101.638</td>\n",
       "      <td>981.346</td>\n",
       "      <td>715.812</td>\n",
       "      <td>7.20398</td>\n",
       "      <td>35.7097</td>\n",
       "      <td>-1.75795</td>\n",
       "    </tr>\n",
       "    <tr>\n",
       "      <th>4</th>\n",
       "      <td>960.402</td>\n",
       "      <td>271.002</td>\n",
       "      <td>3.68095</td>\n",
       "      <td>745.247</td>\n",
       "      <td>205.881</td>\n",
       "      <td>1049.22</td>\n",
       "      <td>104.695</td>\n",
       "      <td>1009.23</td>\n",
       "      <td>758.729</td>\n",
       "      <td>6.37979</td>\n",
       "      <td>36.4234</td>\n",
       "      <td>-2.2072</td>\n",
       "    </tr>\n",
       "    <tr>\n",
       "      <th>5</th>\n",
       "      <td>978.305</td>\n",
       "      <td>269.935</td>\n",
       "      <td>3.71229</td>\n",
       "      <td>765.401</td>\n",
       "      <td>218.268</td>\n",
       "      <td>1037.46</td>\n",
       "      <td>107.356</td>\n",
       "      <td>1032.98</td>\n",
       "      <td>797.17</td>\n",
       "      <td>5.62436</td>\n",
       "      <td>37.0602</td>\n",
       "      <td>-2.63002</td>\n",
       "    </tr>\n",
       "    <tr>\n",
       "      <th>6</th>\n",
       "      <td>993.903</td>\n",
       "      <td>268.825</td>\n",
       "      <td>3.67976</td>\n",
       "      <td>782.627</td>\n",
       "      <td>229.151</td>\n",
       "      <td>1027.24</td>\n",
       "      <td>109.656</td>\n",
       "      <td>1053.31</td>\n",
       "      <td>831.546</td>\n",
       "      <td>4.92973</td>\n",
       "      <td>37.6263</td>\n",
       "      <td>-3.0304</td>\n",
       "    </tr>\n",
       "    <tr>\n",
       "      <th>7</th>\n",
       "      <td>1007.55</td>\n",
       "      <td>267.695</td>\n",
       "      <td>3.59689</td>\n",
       "      <td>797.418</td>\n",
       "      <td>238.717</td>\n",
       "      <td>1018.31</td>\n",
       "      <td>111.629</td>\n",
       "      <td>1070.81</td>\n",
       "      <td>862.262</td>\n",
       "      <td>4.28917</td>\n",
       "      <td>38.1277</td>\n",
       "      <td>-3.41136</td>\n",
       "    </tr>\n",
       "    <tr>\n",
       "      <th>8</th>\n",
       "      <td>1019.56</td>\n",
       "      <td>266.569</td>\n",
       "      <td>3.47501</td>\n",
       "      <td>810.189</td>\n",
       "      <td>247.139</td>\n",
       "      <td>1010.48</td>\n",
       "      <td>113.312</td>\n",
       "      <td>1086.01</td>\n",
       "      <td>889.704</td>\n",
       "      <td>3.6969</td>\n",
       "      <td>38.5703</td>\n",
       "      <td>-3.77523</td>\n",
       "    </tr>\n",
       "    <tr>\n",
       "      <th>9</th>\n",
       "      <td>1030.18</td>\n",
       "      <td>265.466</td>\n",
       "      <td>3.32353</td>\n",
       "      <td>821.286</td>\n",
       "      <td>254.569</td>\n",
       "      <td>1003.55</td>\n",
       "      <td>114.738</td>\n",
       "      <td>1099.29</td>\n",
       "      <td>914.234</td>\n",
       "      <td>3.14806</td>\n",
       "      <td>38.9602</td>\n",
       "      <td>-4.12376</td>\n",
       "    </tr>\n",
       "  </tbody>\n",
       "</table>\n",
       "</div>"
      ],
      "text/plain": [
       "  PT08.S1(CO) NMHC(GT) C6H6(GT) PT08.S2(NMHC)  NOx(GT) PT08.S3(NOx)  NO2(GT)  \\\n",
       "0     856.239  274.397  2.55206       621.934  137.081      1117.66  89.8369   \n",
       "1     888.301  273.706  3.02895       660.803  157.604      1096.63  94.2247   \n",
       "2     915.929  272.907   3.3597       693.701  175.766      1078.47   98.155   \n",
       "3     939.773      272   3.5697       721.578  191.785      1062.78  101.638   \n",
       "4     960.402  271.002  3.68095       745.247  205.881      1049.22  104.695   \n",
       "5     978.305  269.935  3.71229       765.401  218.268      1037.46  107.356   \n",
       "6     993.903  268.825  3.67976       782.627  229.151      1027.24  109.656   \n",
       "7     1007.55  267.695  3.59689       797.418  238.717      1018.31  111.629   \n",
       "8     1019.56  266.569  3.47501       810.189  247.139      1010.48  113.312   \n",
       "9     1030.18  265.466  3.32353       821.286  254.569      1003.55  114.738   \n",
       "\n",
       "  PT08.S4(NO2) PT08.S5(O3)        T       RH        AH  \n",
       "0      863.566      556.36  10.1905  33.0605 -0.192338  \n",
       "1      909.602     614.966   9.0975  34.0318 -0.758105  \n",
       "2      948.471     668.015  8.10624   34.914  -1.27714  \n",
       "3      981.346     715.812  7.20398  35.7097  -1.75795  \n",
       "4      1009.23     758.729  6.37979  36.4234   -2.2072  \n",
       "5      1032.98      797.17  5.62436  37.0602  -2.63002  \n",
       "6      1053.31     831.546  4.92973  37.6263   -3.0304  \n",
       "7      1070.81     862.262  4.28917  38.1277  -3.41136  \n",
       "8      1086.01     889.704   3.6969  38.5703  -3.77523  \n",
       "9      1099.29     914.234  3.14806  38.9602  -4.12376  "
      ]
     },
     "execution_count": 309,
     "metadata": {},
     "output_type": "execute_result"
    }
   ],
   "source": [
    "pred.head(10)"
   ]
  },
  {
   "cell_type": "code",
   "execution_count": null,
   "metadata": {},
   "outputs": [],
   "source": [
    "pred"
   ]
  },
  {
   "cell_type": "markdown",
   "metadata": {},
   "source": [
    "### check rmse"
   ]
  },
  {
   "cell_type": "code",
   "execution_count": 310,
   "metadata": {
    "ExecuteTime": {
     "end_time": "2020-10-14T13:34:16.681688Z",
     "start_time": "2020-10-14T13:34:16.650013Z"
    }
   },
   "outputs": [
    {
     "name": "stdout",
     "output_type": "stream",
     "text": [
      "<class 'pandas.core.frame.DataFrame'>\n",
      "RangeIndex: 1872 entries, 0 to 1871\n",
      "Data columns (total 12 columns):\n",
      " #   Column            Non-Null Count  Dtype \n",
      "---  ------            --------------  ----- \n",
      " 0   (PT08.S1(CO),)    1872 non-null   object\n",
      " 1   (NMHC(GT),)       1872 non-null   object\n",
      " 2   (C6H6(GT),)       1872 non-null   object\n",
      " 3   (PT08.S2(NMHC),)  1872 non-null   object\n",
      " 4   (NOx(GT),)        1872 non-null   object\n",
      " 5   (PT08.S3(NOx),)   1872 non-null   object\n",
      " 6   (NO2(GT),)        1872 non-null   object\n",
      " 7   (PT08.S4(NO2),)   1872 non-null   object\n",
      " 8   (PT08.S5(O3),)    1872 non-null   object\n",
      " 9   (T,)              1872 non-null   object\n",
      " 10  (RH,)             1872 non-null   object\n",
      " 11  (AH,)             1872 non-null   object\n",
      "dtypes: object(12)\n",
      "memory usage: 175.6+ KB\n"
     ]
    }
   ],
   "source": [
    "pred.info()"
   ]
  },
  {
   "cell_type": "code",
   "execution_count": 311,
   "metadata": {
    "ExecuteTime": {
     "end_time": "2020-10-14T13:34:17.358359Z",
     "start_time": "2020-10-14T13:34:17.350033Z"
    }
   },
   "outputs": [],
   "source": [
    "pred = pred.astype(float)"
   ]
  },
  {
   "cell_type": "code",
   "execution_count": 247,
   "metadata": {
    "ExecuteTime": {
     "end_time": "2020-10-14T13:29:36.024733Z",
     "start_time": "2020-10-14T13:29:36.019639Z"
    }
   },
   "outputs": [],
   "source": []
  },
  {
   "cell_type": "code",
   "execution_count": 317,
   "metadata": {
    "ExecuteTime": {
     "end_time": "2020-10-14T13:35:55.195849Z",
     "start_time": "2020-10-14T13:35:55.185870Z"
    }
   },
   "outputs": [],
   "source": [
    "valid = valid.reset_index(drop=True)"
   ]
  },
  {
   "cell_type": "code",
   "execution_count": null,
   "metadata": {},
   "outputs": [],
   "source": []
  },
  {
   "cell_type": "code",
   "execution_count": 320,
   "metadata": {
    "ExecuteTime": {
     "end_time": "2020-10-14T13:36:05.338771Z",
     "start_time": "2020-10-14T13:36:05.309593Z"
    }
   },
   "outputs": [
    {
     "data": {
      "text/html": [
       "<div>\n",
       "<style scoped>\n",
       "    .dataframe tbody tr th:only-of-type {\n",
       "        vertical-align: middle;\n",
       "    }\n",
       "\n",
       "    .dataframe tbody tr th {\n",
       "        vertical-align: top;\n",
       "    }\n",
       "\n",
       "    .dataframe thead th {\n",
       "        text-align: right;\n",
       "    }\n",
       "</style>\n",
       "<table border=\"1\" class=\"dataframe\">\n",
       "  <thead>\n",
       "    <tr style=\"text-align: right;\">\n",
       "      <th></th>\n",
       "      <th>PT08.S1(CO)</th>\n",
       "      <th>NMHC(GT)</th>\n",
       "      <th>C6H6(GT)</th>\n",
       "      <th>PT08.S2(NMHC)</th>\n",
       "      <th>NOx(GT)</th>\n",
       "      <th>PT08.S3(NOx)</th>\n",
       "      <th>NO2(GT)</th>\n",
       "      <th>PT08.S4(NO2)</th>\n",
       "      <th>PT08.S5(O3)</th>\n",
       "      <th>T</th>\n",
       "      <th>RH</th>\n",
       "      <th>AH</th>\n",
       "    </tr>\n",
       "  </thead>\n",
       "  <tbody>\n",
       "    <tr>\n",
       "      <th>0</th>\n",
       "      <td>833.0</td>\n",
       "      <td>275.0</td>\n",
       "      <td>2.0</td>\n",
       "      <td>584.0</td>\n",
       "      <td>107.0</td>\n",
       "      <td>1144.0</td>\n",
       "      <td>80.0</td>\n",
       "      <td>821.0</td>\n",
       "      <td>463.0</td>\n",
       "      <td>11.3</td>\n",
       "      <td>32.5</td>\n",
       "      <td>0.4334</td>\n",
       "    </tr>\n",
       "    <tr>\n",
       "      <th>1</th>\n",
       "      <td>877.0</td>\n",
       "      <td>275.0</td>\n",
       "      <td>2.8</td>\n",
       "      <td>642.0</td>\n",
       "      <td>176.0</td>\n",
       "      <td>1037.0</td>\n",
       "      <td>112.0</td>\n",
       "      <td>859.0</td>\n",
       "      <td>565.0</td>\n",
       "      <td>11.0</td>\n",
       "      <td>33.0</td>\n",
       "      <td>0.4331</td>\n",
       "    </tr>\n",
       "    <tr>\n",
       "      <th>2</th>\n",
       "      <td>892.0</td>\n",
       "      <td>275.0</td>\n",
       "      <td>3.3</td>\n",
       "      <td>668.0</td>\n",
       "      <td>180.0</td>\n",
       "      <td>1017.0</td>\n",
       "      <td>121.0</td>\n",
       "      <td>872.0</td>\n",
       "      <td>632.0</td>\n",
       "      <td>10.3</td>\n",
       "      <td>35.0</td>\n",
       "      <td>0.4377</td>\n",
       "    </tr>\n",
       "    <tr>\n",
       "      <th>3</th>\n",
       "      <td>899.0</td>\n",
       "      <td>275.0</td>\n",
       "      <td>3.4</td>\n",
       "      <td>674.0</td>\n",
       "      <td>212.0</td>\n",
       "      <td>1002.0</td>\n",
       "      <td>132.0</td>\n",
       "      <td>893.0</td>\n",
       "      <td>691.0</td>\n",
       "      <td>8.4</td>\n",
       "      <td>40.9</td>\n",
       "      <td>0.4542</td>\n",
       "    </tr>\n",
       "    <tr>\n",
       "      <th>4</th>\n",
       "      <td>1008.0</td>\n",
       "      <td>275.0</td>\n",
       "      <td>7.1</td>\n",
       "      <td>861.0</td>\n",
       "      <td>331.0</td>\n",
       "      <td>839.0</td>\n",
       "      <td>160.0</td>\n",
       "      <td>977.0</td>\n",
       "      <td>943.0</td>\n",
       "      <td>8.3</td>\n",
       "      <td>38.5</td>\n",
       "      <td>0.4228</td>\n",
       "    </tr>\n",
       "  </tbody>\n",
       "</table>\n",
       "</div>"
      ],
      "text/plain": [
       "   PT08.S1(CO)  NMHC(GT)  C6H6(GT)  PT08.S2(NMHC)  NOx(GT)  PT08.S3(NOx)  \\\n",
       "0        833.0     275.0       2.0          584.0    107.0        1144.0   \n",
       "1        877.0     275.0       2.8          642.0    176.0        1037.0   \n",
       "2        892.0     275.0       3.3          668.0    180.0        1017.0   \n",
       "3        899.0     275.0       3.4          674.0    212.0        1002.0   \n",
       "4       1008.0     275.0       7.1          861.0    331.0         839.0   \n",
       "\n",
       "   NO2(GT)  PT08.S4(NO2)  PT08.S5(O3)     T    RH      AH  \n",
       "0     80.0         821.0        463.0  11.3  32.5  0.4334  \n",
       "1    112.0         859.0        565.0  11.0  33.0  0.4331  \n",
       "2    121.0         872.0        632.0  10.3  35.0  0.4377  \n",
       "3    132.0         893.0        691.0   8.4  40.9  0.4542  \n",
       "4    160.0         977.0        943.0   8.3  38.5  0.4228  "
      ]
     },
     "execution_count": 320,
     "metadata": {},
     "output_type": "execute_result"
    }
   ],
   "source": [
    "valid.head()"
   ]
  },
  {
   "cell_type": "code",
   "execution_count": 321,
   "metadata": {
    "ExecuteTime": {
     "end_time": "2020-10-14T13:36:15.301288Z",
     "start_time": "2020-10-14T13:36:15.268208Z"
    }
   },
   "outputs": [
    {
     "data": {
      "text/html": [
       "<div>\n",
       "<style scoped>\n",
       "    .dataframe tbody tr th:only-of-type {\n",
       "        vertical-align: middle;\n",
       "    }\n",
       "\n",
       "    .dataframe tbody tr th {\n",
       "        vertical-align: top;\n",
       "    }\n",
       "\n",
       "    .dataframe thead tr th {\n",
       "        text-align: left;\n",
       "    }\n",
       "</style>\n",
       "<table border=\"1\" class=\"dataframe\">\n",
       "  <thead>\n",
       "    <tr>\n",
       "      <th></th>\n",
       "      <th>PT08.S1(CO)</th>\n",
       "      <th>NMHC(GT)</th>\n",
       "      <th>C6H6(GT)</th>\n",
       "      <th>PT08.S2(NMHC)</th>\n",
       "      <th>NOx(GT)</th>\n",
       "      <th>PT08.S3(NOx)</th>\n",
       "      <th>NO2(GT)</th>\n",
       "      <th>PT08.S4(NO2)</th>\n",
       "      <th>PT08.S5(O3)</th>\n",
       "      <th>T</th>\n",
       "      <th>RH</th>\n",
       "      <th>AH</th>\n",
       "    </tr>\n",
       "  </thead>\n",
       "  <tbody>\n",
       "    <tr>\n",
       "      <th>0</th>\n",
       "      <td>856.238721</td>\n",
       "      <td>274.397287</td>\n",
       "      <td>2.552063</td>\n",
       "      <td>621.934382</td>\n",
       "      <td>137.081358</td>\n",
       "      <td>1117.664489</td>\n",
       "      <td>89.836885</td>\n",
       "      <td>863.566275</td>\n",
       "      <td>556.360305</td>\n",
       "      <td>10.190487</td>\n",
       "      <td>33.060490</td>\n",
       "      <td>-0.192338</td>\n",
       "    </tr>\n",
       "    <tr>\n",
       "      <th>1</th>\n",
       "      <td>888.301298</td>\n",
       "      <td>273.706459</td>\n",
       "      <td>3.028948</td>\n",
       "      <td>660.802531</td>\n",
       "      <td>157.603961</td>\n",
       "      <td>1096.632506</td>\n",
       "      <td>94.224731</td>\n",
       "      <td>909.602411</td>\n",
       "      <td>614.966208</td>\n",
       "      <td>9.097498</td>\n",
       "      <td>34.031791</td>\n",
       "      <td>-0.758105</td>\n",
       "    </tr>\n",
       "    <tr>\n",
       "      <th>2</th>\n",
       "      <td>915.928895</td>\n",
       "      <td>272.906655</td>\n",
       "      <td>3.359696</td>\n",
       "      <td>693.701177</td>\n",
       "      <td>175.766392</td>\n",
       "      <td>1078.469726</td>\n",
       "      <td>98.155045</td>\n",
       "      <td>948.470932</td>\n",
       "      <td>668.014800</td>\n",
       "      <td>8.106240</td>\n",
       "      <td>34.913986</td>\n",
       "      <td>-1.277138</td>\n",
       "    </tr>\n",
       "    <tr>\n",
       "      <th>3</th>\n",
       "      <td>939.773243</td>\n",
       "      <td>271.999948</td>\n",
       "      <td>3.569700</td>\n",
       "      <td>721.578341</td>\n",
       "      <td>191.785083</td>\n",
       "      <td>1062.781937</td>\n",
       "      <td>101.637709</td>\n",
       "      <td>981.345990</td>\n",
       "      <td>715.812214</td>\n",
       "      <td>7.203975</td>\n",
       "      <td>35.709725</td>\n",
       "      <td>-1.757954</td>\n",
       "    </tr>\n",
       "    <tr>\n",
       "      <th>4</th>\n",
       "      <td>960.401944</td>\n",
       "      <td>271.001923</td>\n",
       "      <td>3.680945</td>\n",
       "      <td>745.247332</td>\n",
       "      <td>205.880537</td>\n",
       "      <td>1049.216030</td>\n",
       "      <td>104.694862</td>\n",
       "      <td>1009.231276</td>\n",
       "      <td>758.729447</td>\n",
       "      <td>6.379788</td>\n",
       "      <td>36.423352</td>\n",
       "      <td>-2.207197</td>\n",
       "    </tr>\n",
       "  </tbody>\n",
       "</table>\n",
       "</div>"
      ],
      "text/plain": [
       "  PT08.S1(CO)    NMHC(GT)  C6H6(GT) PT08.S2(NMHC)     NOx(GT) PT08.S3(NOx)  \\\n",
       "0  856.238721  274.397287  2.552063    621.934382  137.081358  1117.664489   \n",
       "1  888.301298  273.706459  3.028948    660.802531  157.603961  1096.632506   \n",
       "2  915.928895  272.906655  3.359696    693.701177  175.766392  1078.469726   \n",
       "3  939.773243  271.999948  3.569700    721.578341  191.785083  1062.781937   \n",
       "4  960.401944  271.001923  3.680945    745.247332  205.880537  1049.216030   \n",
       "\n",
       "      NO2(GT) PT08.S4(NO2) PT08.S5(O3)          T         RH        AH  \n",
       "0   89.836885   863.566275  556.360305  10.190487  33.060490 -0.192338  \n",
       "1   94.224731   909.602411  614.966208   9.097498  34.031791 -0.758105  \n",
       "2   98.155045   948.470932  668.014800   8.106240  34.913986 -1.277138  \n",
       "3  101.637709   981.345990  715.812214   7.203975  35.709725 -1.757954  \n",
       "4  104.694862  1009.231276  758.729447   6.379788  36.423352 -2.207197  "
      ]
     },
     "execution_count": 321,
     "metadata": {},
     "output_type": "execute_result"
    }
   ],
   "source": [
    "pred.head()"
   ]
  },
  {
   "cell_type": "code",
   "execution_count": 323,
   "metadata": {
    "ExecuteTime": {
     "end_time": "2020-10-14T14:10:43.317836Z",
     "start_time": "2020-10-14T14:10:43.096448Z"
    }
   },
   "outputs": [
    {
     "data": {
      "text/plain": [
       "  Summary of Regression Results   \n",
       "==================================\n",
       "Model:                         VAR\n",
       "Method:                        OLS\n",
       "Date:           Wed, 14, Oct, 2020\n",
       "Time:                     19:40:43\n",
       "--------------------------------------------------------------------\n",
       "No. of Equations:         12.0000    BIC:                    67.7932\n",
       "Nobs:                     7484.00    HQIC:                   67.6985\n",
       "Log likelihood:          -380418.    FPE:                2.39647e+29\n",
       "AIC:                      67.6490    Det(Omega_mle):     2.34708e+29\n",
       "--------------------------------------------------------------------\n",
       "Results for equation PT08.S1(CO)\n",
       "===================================================================================\n",
       "                      coefficient       std. error           t-stat            prob\n",
       "-----------------------------------------------------------------------------------\n",
       "const                   63.667792        25.039528            2.543           0.011\n",
       "L1.PT08.S1(CO)           1.013968         0.015312           66.222           0.000\n",
       "L1.NMHC(GT)             -0.078355         0.014986           -5.229           0.000\n",
       "L1.C6H6(GT)             -3.820492         0.586186           -6.518           0.000\n",
       "L1.PT08.S2(NMHC)         0.090919         0.022893            3.971           0.000\n",
       "L1.NOx(GT)               0.038639         0.011964            3.230           0.001\n",
       "L1.PT08.S3(NOx)         -0.002814         0.009508           -0.296           0.767\n",
       "L1.NO2(GT)              -0.180715         0.052799           -3.423           0.001\n",
       "L1.PT08.S4(NO2)         -0.034548         0.010936           -3.159           0.002\n",
       "L1.PT08.S5(O3)          -0.045966         0.008486           -5.417           0.000\n",
       "L1.T                     0.227789         0.355922            0.640           0.522\n",
       "L1.RH                   -0.029066         0.154747           -0.188           0.851\n",
       "L1.AH                    3.794052         0.919941            4.124           0.000\n",
       "===================================================================================\n",
       "\n",
       "Results for equation NMHC(GT)\n",
       "===================================================================================\n",
       "                      coefficient       std. error           t-stat            prob\n",
       "-----------------------------------------------------------------------------------\n",
       "const                   51.838138        11.388338            4.552           0.000\n",
       "L1.PT08.S1(CO)           0.021596         0.006964            3.101           0.002\n",
       "L1.NMHC(GT)              0.822135         0.006816          120.623           0.000\n",
       "L1.C6H6(GT)             -0.254631         0.266606           -0.955           0.340\n",
       "L1.PT08.S2(NMHC)         0.020963         0.010412            2.013           0.044\n",
       "L1.NOx(GT)               0.007746         0.005441            1.423           0.155\n",
       "L1.PT08.S3(NOx)         -0.012441         0.004324           -2.877           0.004\n",
       "L1.NO2(GT)              -0.047653         0.024014           -1.984           0.047\n",
       "L1.PT08.S4(NO2)         -0.009247         0.004974           -1.859           0.063\n",
       "L1.PT08.S5(O3)          -0.020714         0.003859           -5.367           0.000\n",
       "L1.T                     0.146139         0.161878            0.903           0.367\n",
       "L1.RH                    0.016875         0.070381            0.240           0.811\n",
       "L1.AH                    0.081598         0.418402            0.195           0.845\n",
       "===================================================================================\n",
       "\n",
       "Results for equation C6H6(GT)\n",
       "===================================================================================\n",
       "                      coefficient       std. error           t-stat            prob\n",
       "-----------------------------------------------------------------------------------\n",
       "const                   -2.253071         3.270899           -0.689           0.491\n",
       "L1.PT08.S1(CO)           0.001806         0.002000            0.903           0.367\n",
       "L1.NMHC(GT)             -0.000946         0.001958           -0.483           0.629\n",
       "L1.C6H6(GT)              0.587725         0.076573            7.675           0.000\n",
       "L1.PT08.S2(NMHC)         0.008753         0.002991            2.927           0.003\n",
       "L1.NOx(GT)               0.000257         0.001563            0.165           0.869\n",
       "L1.PT08.S3(NOx)         -0.001335         0.001242           -1.075           0.282\n",
       "L1.NO2(GT)               0.006977         0.006897            1.012           0.312\n",
       "L1.PT08.S4(NO2)          0.001185         0.001429            0.829           0.407\n",
       "L1.PT08.S5(O3)          -0.005030         0.001108           -4.538           0.000\n",
       "L1.T                    -0.057020         0.046494           -1.226           0.220\n",
       "L1.RH                    0.009730         0.020214            0.481           0.630\n",
       "L1.AH                    0.430878         0.120171            3.586           0.000\n",
       "===================================================================================\n",
       "\n",
       "Results for equation PT08.S2(NMHC)\n",
       "===================================================================================\n",
       "                      coefficient       std. error           t-stat            prob\n",
       "-----------------------------------------------------------------------------------\n",
       "const                   30.855674        32.501021            0.949           0.342\n",
       "L1.PT08.S1(CO)           0.107509         0.019874            5.409           0.000\n",
       "L1.NMHC(GT)             -0.076654         0.019451           -3.941           0.000\n",
       "L1.C6H6(GT)             -6.123305         0.760863           -8.048           0.000\n",
       "L1.PT08.S2(NMHC)         1.047170         0.029715           35.240           0.000\n",
       "L1.NOx(GT)               0.075351         0.015529            4.852           0.000\n",
       "L1.PT08.S3(NOx)         -0.006303         0.012341           -0.511           0.610\n",
       "L1.NO2(GT)              -0.224712         0.068532           -3.279           0.001\n",
       "L1.PT08.S4(NO2)         -0.028144         0.014195           -1.983           0.047\n",
       "L1.PT08.S5(O3)          -0.063732         0.011014           -5.786           0.000\n",
       "L1.T                     0.464088         0.461982            1.005           0.315\n",
       "L1.RH                   -0.109327         0.200859           -0.544           0.586\n",
       "L1.AH                    6.065347         1.194073            5.080           0.000\n",
       "===================================================================================\n",
       "\n",
       "Results for equation NOx(GT)\n",
       "===================================================================================\n",
       "                      coefficient       std. error           t-stat            prob\n",
       "-----------------------------------------------------------------------------------\n",
       "const                   47.616594        18.964310            2.511           0.012\n",
       "L1.PT08.S1(CO)           0.032234         0.011597            2.780           0.005\n",
       "L1.NMHC(GT)             -0.017171         0.011350           -1.513           0.130\n",
       "L1.C6H6(GT)             -0.295742         0.443963           -0.666           0.505\n",
       "L1.PT08.S2(NMHC)         0.107549         0.017339            6.203           0.000\n",
       "L1.NOx(GT)               0.914943         0.009061          100.972           0.000\n",
       "L1.PT08.S3(NOx)         -0.013164         0.007201           -1.828           0.068\n",
       "L1.NO2(GT)              -0.277949         0.039988           -6.951           0.000\n",
       "L1.PT08.S4(NO2)         -0.075360         0.008282           -9.099           0.000\n",
       "L1.PT08.S5(O3)          -0.028573         0.006427           -4.446           0.000\n",
       "L1.T                     0.250224         0.269566            0.928           0.353\n",
       "L1.RH                    0.410223         0.117201            3.500           0.000\n",
       "L1.AH                   -0.463872         0.696740           -0.666           0.506\n",
       "===================================================================================\n",
       "\n",
       "Results for equation PT08.S3(NOx)\n",
       "===================================================================================\n",
       "                      coefficient       std. error           t-stat            prob\n",
       "-----------------------------------------------------------------------------------\n",
       "const                  125.456784        26.889634            4.666           0.000\n",
       "L1.PT08.S1(CO)          -0.077594         0.016443           -4.719           0.000\n",
       "L1.NMHC(GT)              0.026465         0.016093            1.644           0.100\n",
       "L1.C6H6(GT)              1.067938         0.629498            1.696           0.090\n",
       "L1.PT08.S2(NMHC)        -0.023342         0.024585           -0.949           0.342\n",
       "L1.NOx(GT)              -0.065669         0.012848           -5.111           0.000\n",
       "L1.PT08.S3(NOx)          0.904549         0.010210           88.591           0.000\n",
       "L1.NO2(GT)               0.238272         0.056700            4.202           0.000\n",
       "L1.PT08.S4(NO2)          0.035707         0.011744            3.041           0.002\n",
       "L1.PT08.S5(O3)           0.026753         0.009113            2.936           0.003\n",
       "L1.T                    -1.598842         0.382220           -4.183           0.000\n",
       "L1.RH                   -0.316683         0.166181           -1.906           0.057\n",
       "L1.AH                    1.031618         0.987913            1.044           0.296\n",
       "===================================================================================\n",
       "\n",
       "Results for equation NO2(GT)\n",
       "===================================================================================\n",
       "                      coefficient       std. error           t-stat            prob\n",
       "-----------------------------------------------------------------------------------\n",
       "const                   16.796944         4.242471            3.959           0.000\n",
       "L1.PT08.S1(CO)           0.012707         0.002594            4.898           0.000\n",
       "L1.NMHC(GT)             -0.001771         0.002539           -0.698           0.485\n",
       "L1.C6H6(GT)              0.037445         0.099318            0.377           0.706\n",
       "L1.PT08.S2(NMHC)         0.015429         0.003879            3.978           0.000\n",
       "L1.NOx(GT)               0.010485         0.002027            5.172           0.000\n",
       "L1.PT08.S3(NOx)         -0.001324         0.001611           -0.822           0.411\n",
       "L1.NO2(GT)               0.824782         0.008946           92.198           0.000\n",
       "L1.PT08.S4(NO2)         -0.008150         0.001853           -4.399           0.000\n",
       "L1.PT08.S5(O3)          -0.008911         0.001438           -6.198           0.000\n",
       "L1.T                    -0.154322         0.060304           -2.559           0.010\n",
       "L1.RH                   -0.093658         0.026219           -3.572           0.000\n",
       "L1.AH                    0.244287         0.155866            1.567           0.117\n",
       "===================================================================================\n",
       "\n",
       "Results for equation PT08.S4(NO2)\n",
       "===================================================================================\n",
       "                      coefficient       std. error           t-stat            prob\n",
       "-----------------------------------------------------------------------------------\n",
       "const                   13.086914        35.204758            0.372           0.710\n",
       "L1.PT08.S1(CO)           0.120630         0.021528            5.604           0.000\n",
       "L1.NMHC(GT)             -0.111257         0.021070           -5.280           0.000\n",
       "L1.C6H6(GT)             -7.613459         0.824159           -9.238           0.000\n",
       "L1.PT08.S2(NMHC)         0.148353         0.032187            4.609           0.000\n",
       "L1.NOx(GT)               0.037188         0.016821            2.211           0.027\n",
       "L1.PT08.S3(NOx)         -0.006171         0.013368           -0.462           0.644\n",
       "L1.NO2(GT)              -0.172580         0.074233           -2.325           0.020\n",
       "L1.PT08.S4(NO2)          0.903671         0.015375           58.774           0.000\n",
       "L1.PT08.S5(O3)          -0.070205         0.011930           -5.885           0.000\n",
       "L1.T                     1.699820         0.500414            3.397           0.001\n",
       "L1.RH                    0.323638         0.217569            1.488           0.137\n",
       "L1.AH                    5.816510         1.293407            4.497           0.000\n",
       "===================================================================================\n",
       "\n",
       "Results for equation PT08.S5(O3)\n",
       "===================================================================================\n",
       "                      coefficient       std. error           t-stat            prob\n",
       "-----------------------------------------------------------------------------------\n",
       "const                   68.637846        41.816770            1.641           0.101\n",
       "L1.PT08.S1(CO)           0.155151         0.025571            6.068           0.000\n",
       "L1.NMHC(GT)             -0.063517         0.025027           -2.538           0.011\n",
       "L1.C6H6(GT)             -3.482991         0.978949           -3.558           0.000\n",
       "L1.PT08.S2(NMHC)         0.187559         0.038233            4.906           0.000\n",
       "L1.NOx(GT)               0.093574         0.019981            4.683           0.000\n",
       "L1.PT08.S3(NOx)         -0.024390         0.015878           -1.536           0.125\n",
       "L1.NO2(GT)              -0.437526         0.088175           -4.962           0.000\n",
       "L1.PT08.S4(NO2)         -0.048144         0.018263           -2.636           0.008\n",
       "L1.PT08.S5(O3)           0.778789         0.014171           54.956           0.000\n",
       "L1.T                    -1.168906         0.594400           -1.967           0.049\n",
       "L1.RH                   -0.059701         0.258432           -0.231           0.817\n",
       "L1.AH                    4.873601         1.536329            3.172           0.002\n",
       "===================================================================================\n",
       "\n",
       "Results for equation T\n",
       "===================================================================================\n",
       "                      coefficient       std. error           t-stat            prob\n",
       "-----------------------------------------------------------------------------------\n",
       "const                   -1.978002         3.230479           -0.612           0.540\n",
       "L1.PT08.S1(CO)          -0.003847         0.001975           -1.947           0.051\n",
       "L1.NMHC(GT)              0.002236         0.001933            1.157           0.247\n",
       "L1.C6H6(GT)             -0.144334         0.075627           -1.909           0.056\n",
       "L1.PT08.S2(NMHC)         0.003747         0.002954            1.269           0.205\n",
       "L1.NOx(GT)              -0.000427         0.001544           -0.277           0.782\n",
       "L1.PT08.S3(NOx)         -0.000641         0.001227           -0.523           0.601\n",
       "L1.NO2(GT)               0.007388         0.006812            1.085           0.278\n",
       "L1.PT08.S4(NO2)          0.004313         0.001411            3.057           0.002\n",
       "L1.PT08.S5(O3)          -0.001570         0.001095           -1.434           0.152\n",
       "L1.T                     0.882621         0.045919           19.221           0.000\n",
       "L1.RH                    0.003085         0.019965            0.155           0.877\n",
       "L1.AH                    0.221238         0.118686            1.864           0.062\n",
       "===================================================================================\n",
       "\n",
       "Results for equation RH\n",
       "===================================================================================\n",
       "                      coefficient       std. error           t-stat            prob\n",
       "-----------------------------------------------------------------------------------\n",
       "const                   -2.034608         3.721079           -0.547           0.585\n",
       "L1.PT08.S1(CO)           0.003792         0.002275            1.667           0.096\n",
       "L1.NMHC(GT)              0.000605         0.002227            0.271           0.786\n",
       "L1.C6H6(GT)              0.006927         0.087112            0.080           0.937\n",
       "L1.PT08.S2(NMHC)         0.003376         0.003402            0.992           0.321\n",
       "L1.NOx(GT)              -0.004239         0.001778           -2.384           0.017\n",
       "L1.PT08.S3(NOx)         -0.000012         0.001413           -0.008           0.993\n",
       "L1.NO2(GT)               0.020634         0.007846            2.630           0.009\n",
       "L1.PT08.S4(NO2)         -0.002218         0.001625           -1.365           0.172\n",
       "L1.PT08.S5(O3)          -0.005100         0.001261           -4.045           0.000\n",
       "L1.T                     0.036292         0.052893            0.686           0.493\n",
       "L1.RH                    1.017342         0.022997           44.239           0.000\n",
       "L1.AH                   -0.132959         0.136711           -0.973           0.331\n",
       "===================================================================================\n",
       "\n",
       "Results for equation AH\n",
       "===================================================================================\n",
       "                      coefficient       std. error           t-stat            prob\n",
       "-----------------------------------------------------------------------------------\n",
       "const                   -2.405339         2.914923           -0.825           0.409\n",
       "L1.PT08.S1(CO)          -0.001559         0.001782           -0.874           0.382\n",
       "L1.NMHC(GT)              0.001687         0.001745            0.967           0.334\n",
       "L1.C6H6(GT)             -0.091128         0.068240           -1.335           0.182\n",
       "L1.PT08.S2(NMHC)         0.003898         0.002665            1.463           0.144\n",
       "L1.NOx(GT)              -0.001462         0.001393           -1.050           0.294\n",
       "L1.PT08.S3(NOx)         -0.000359         0.001107           -0.325           0.746\n",
       "L1.NO2(GT)               0.010531         0.006146            1.713           0.087\n",
       "L1.PT08.S4(NO2)          0.002015         0.001273            1.583           0.113\n",
       "L1.PT08.S5(O3)          -0.002586         0.000988           -2.618           0.009\n",
       "L1.T                    -0.056279         0.041434           -1.358           0.174\n",
       "L1.RH                    0.014046         0.018015            0.780           0.436\n",
       "L1.AH                    1.088929         0.107093           10.168           0.000\n",
       "===================================================================================\n",
       "\n",
       "Correlation matrix of residuals\n",
       "                 PT08.S1(CO)  NMHC(GT)  C6H6(GT)  PT08.S2(NMHC)   NOx(GT)  PT08.S3(NOx)   NO2(GT)  PT08.S4(NO2)  PT08.S5(O3)         T        RH        AH\n",
       "PT08.S1(CO)         1.000000  0.336933  0.265274       0.940865  0.655663     -0.802168  0.601289      0.932765     0.902336 -0.016640  0.021272 -0.013580\n",
       "NMHC(GT)            0.336933  1.000000  0.095316       0.303561  0.165024     -0.254568  0.203721      0.327586     0.290308  0.002407 -0.000828  0.000524\n",
       "C6H6(GT)            0.265274  0.095316  1.000000       0.284987  0.180329     -0.199568  0.154026      0.262724     0.252876  0.945286  0.909077  0.951130\n",
       "PT08.S2(NMHC)       0.940865  0.303561  0.284987       1.000000  0.633982     -0.828953  0.596046      0.951714     0.898140 -0.011818 -0.002096 -0.013021\n",
       "NOx(GT)             0.655663  0.165024  0.180329       0.633982  1.000000     -0.523832  0.751158      0.599019     0.622043 -0.013562  0.010119 -0.011544\n",
       "PT08.S3(NOx)       -0.802168 -0.254568 -0.199568      -0.828953 -0.523832      1.000000 -0.564017     -0.765001    -0.791523  0.026172 -0.016209  0.021243\n",
       "NO2(GT)             0.601289  0.203721  0.154026       0.596046  0.751158     -0.564017  1.000000      0.545217     0.635180 -0.006257 -0.029500 -0.015689\n",
       "PT08.S4(NO2)        0.932765  0.327586  0.262724       0.951714  0.599019     -0.765001  0.545217      1.000000     0.869957 -0.037010  0.009060 -0.030828\n",
       "PT08.S5(O3)         0.902336  0.290308  0.252876       0.898140  0.622043     -0.791523  0.635180      0.869957     1.000000 -0.018049  0.021130 -0.011077\n",
       "T                  -0.016640  0.002407  0.945286      -0.011818 -0.013562      0.026172 -0.006257     -0.037010    -0.018049  1.000000  0.918574  0.993600\n",
       "RH                  0.021272 -0.000828  0.909077      -0.002096  0.010119     -0.016209 -0.029500      0.009060     0.021130  0.918574  1.000000  0.953952\n",
       "AH                 -0.013580  0.000524  0.951130      -0.013021 -0.011544      0.021243 -0.015689     -0.030828    -0.011077  0.993600  0.953952  1.000000\n",
       "\n"
      ]
     },
     "execution_count": 323,
     "metadata": {},
     "output_type": "execute_result"
    }
   ],
   "source": [
    "model_fit.summary()"
   ]
  },
  {
   "cell_type": "code",
   "execution_count": null,
   "metadata": {},
   "outputs": [],
   "source": [
    "from math import sqrt\n",
    "from sklearn.metrics import mean_squared_error\n",
    "\n",
    "for i in new_cols:\n",
    "    print('rmse value for', i, 'is : ', sqrt(mean_squared_error(pred[i], valid[i])))"
   ]
  },
  {
   "cell_type": "markdown",
   "metadata": {},
   "source": [
    "# => LSTM"
   ]
  },
  {
   "cell_type": "code",
   "execution_count": 2,
   "metadata": {
    "ExecuteTime": {
     "end_time": "2020-10-15T19:33:43.147079Z",
     "start_time": "2020-10-15T19:33:43.140537Z"
    }
   },
   "outputs": [],
   "source": [
    "import pandas as pd\n",
    "from datetime import datetime"
   ]
  },
  {
   "cell_type": "markdown",
   "metadata": {},
   "source": [
    "### Basic Data Preparation"
   ]
  },
  {
   "cell_type": "code",
   "execution_count": 7,
   "metadata": {
    "ExecuteTime": {
     "end_time": "2020-10-16T17:19:14.022371Z",
     "start_time": "2020-10-16T17:19:13.439292Z"
    }
   },
   "outputs": [
    {
     "data": {
      "text/html": [
       "<div>\n",
       "<style scoped>\n",
       "    .dataframe tbody tr th:only-of-type {\n",
       "        vertical-align: middle;\n",
       "    }\n",
       "\n",
       "    .dataframe tbody tr th {\n",
       "        vertical-align: top;\n",
       "    }\n",
       "\n",
       "    .dataframe thead th {\n",
       "        text-align: right;\n",
       "    }\n",
       "</style>\n",
       "<table border=\"1\" class=\"dataframe\">\n",
       "  <thead>\n",
       "    <tr style=\"text-align: right;\">\n",
       "      <th></th>\n",
       "      <th>pollution</th>\n",
       "      <th>dew</th>\n",
       "      <th>temp</th>\n",
       "      <th>press</th>\n",
       "      <th>wnd_dir</th>\n",
       "      <th>wnd_spd</th>\n",
       "      <th>snow</th>\n",
       "      <th>rain</th>\n",
       "    </tr>\n",
       "    <tr>\n",
       "      <th>date</th>\n",
       "      <th></th>\n",
       "      <th></th>\n",
       "      <th></th>\n",
       "      <th></th>\n",
       "      <th></th>\n",
       "      <th></th>\n",
       "      <th></th>\n",
       "      <th></th>\n",
       "    </tr>\n",
       "  </thead>\n",
       "  <tbody>\n",
       "    <tr>\n",
       "      <th>2010-01-02 00:00:00</th>\n",
       "      <td>129.0</td>\n",
       "      <td>-16</td>\n",
       "      <td>-4.0</td>\n",
       "      <td>1020.0</td>\n",
       "      <td>SE</td>\n",
       "      <td>1.79</td>\n",
       "      <td>0</td>\n",
       "      <td>0</td>\n",
       "    </tr>\n",
       "    <tr>\n",
       "      <th>2010-01-02 01:00:00</th>\n",
       "      <td>148.0</td>\n",
       "      <td>-15</td>\n",
       "      <td>-4.0</td>\n",
       "      <td>1020.0</td>\n",
       "      <td>SE</td>\n",
       "      <td>2.68</td>\n",
       "      <td>0</td>\n",
       "      <td>0</td>\n",
       "    </tr>\n",
       "    <tr>\n",
       "      <th>2010-01-02 02:00:00</th>\n",
       "      <td>159.0</td>\n",
       "      <td>-11</td>\n",
       "      <td>-5.0</td>\n",
       "      <td>1021.0</td>\n",
       "      <td>SE</td>\n",
       "      <td>3.57</td>\n",
       "      <td>0</td>\n",
       "      <td>0</td>\n",
       "    </tr>\n",
       "    <tr>\n",
       "      <th>2010-01-02 03:00:00</th>\n",
       "      <td>181.0</td>\n",
       "      <td>-7</td>\n",
       "      <td>-5.0</td>\n",
       "      <td>1022.0</td>\n",
       "      <td>SE</td>\n",
       "      <td>5.36</td>\n",
       "      <td>1</td>\n",
       "      <td>0</td>\n",
       "    </tr>\n",
       "    <tr>\n",
       "      <th>2010-01-02 04:00:00</th>\n",
       "      <td>138.0</td>\n",
       "      <td>-7</td>\n",
       "      <td>-5.0</td>\n",
       "      <td>1022.0</td>\n",
       "      <td>SE</td>\n",
       "      <td>6.25</td>\n",
       "      <td>2</td>\n",
       "      <td>0</td>\n",
       "    </tr>\n",
       "  </tbody>\n",
       "</table>\n",
       "</div>"
      ],
      "text/plain": [
       "                     pollution  dew  temp   press wnd_dir  wnd_spd  snow  rain\n",
       "date                                                                          \n",
       "2010-01-02 00:00:00      129.0  -16  -4.0  1020.0      SE     1.79     0     0\n",
       "2010-01-02 01:00:00      148.0  -15  -4.0  1020.0      SE     2.68     0     0\n",
       "2010-01-02 02:00:00      159.0  -11  -5.0  1021.0      SE     3.57     0     0\n",
       "2010-01-02 03:00:00      181.0   -7  -5.0  1022.0      SE     5.36     1     0\n",
       "2010-01-02 04:00:00      138.0   -7  -5.0  1022.0      SE     6.25     2     0"
      ]
     },
     "execution_count": 7,
     "metadata": {},
     "output_type": "execute_result"
    }
   ],
   "source": [
    "# load data\n",
    "\n",
    "def parse(x):\n",
    "    return datetime.strptime(x, '%Y %m %d %H')\n",
    "\n",
    "dataset = pd.read_csv('/home/garvit/Datasets/time series/pollution/raw.csv', parse_dates=[['year', 'month', 'day', 'hour']], index_col=0, date_parser=parse)\n",
    "dataset.drop('No', axis=1, inplace=True)\n",
    "\n",
    "# manually specify column names\n",
    "dataset.columns = ['pollution', 'dew', 'temp', 'press', 'wnd_dir', 'wnd_spd', 'snow', 'rain']\n",
    "dataset.index.name = 'date'\n",
    "\n",
    "# mark all NA values with 0\n",
    "dataset['pollution'].fillna(0, inplace=True)\n",
    "\n",
    "# drop the first 24 hours\n",
    "dataset = dataset[24:]\n",
    "\n",
    "# save to file\n",
    "dataset.to_csv('/home/garvit/Datasets/time series/pollution/pollution.csv')\n",
    "\n",
    "# summarize first 5 rows\n",
    "dataset.head(5)"
   ]
  },
  {
   "cell_type": "code",
   "execution_count": 8,
   "metadata": {
    "ExecuteTime": {
     "end_time": "2020-10-16T17:22:23.647712Z",
     "start_time": "2020-10-16T17:22:23.578990Z"
    }
   },
   "outputs": [
    {
     "name": "stdout",
     "output_type": "stream",
     "text": [
      "<class 'pandas.core.frame.DataFrame'>\n",
      "DatetimeIndex: 43800 entries, 2010-01-02 00:00:00 to 2014-12-31 23:00:00\n",
      "Data columns (total 8 columns):\n",
      " #   Column     Non-Null Count  Dtype  \n",
      "---  ------     --------------  -----  \n",
      " 0   pollution  43800 non-null  float64\n",
      " 1   dew        43800 non-null  int64  \n",
      " 2   temp       43800 non-null  float64\n",
      " 3   press      43800 non-null  float64\n",
      " 4   wnd_dir    43800 non-null  object \n",
      " 5   wnd_spd    43800 non-null  float64\n",
      " 6   snow       43800 non-null  int64  \n",
      " 7   rain       43800 non-null  int64  \n",
      "dtypes: float64(4), int64(3), object(1)\n",
      "memory usage: 3.0+ MB\n"
     ]
    }
   ],
   "source": [
    "dataset.info()"
   ]
  },
  {
   "cell_type": "markdown",
   "metadata": {},
   "source": [
    "**Plotting each series**"
   ]
  },
  {
   "cell_type": "code",
   "execution_count": 6,
   "metadata": {
    "ExecuteTime": {
     "end_time": "2020-10-15T19:52:47.926336Z",
     "start_time": "2020-10-15T19:52:47.335617Z"
    }
   },
   "outputs": [
    {
     "data": {
      "image/png": "[encoded data removed]",
      "text/plain": [
       "<Figure size 1296x864 with 7 Axes>"
      ]
     },
     "metadata": {
      "needs_background": "light"
     },
     "output_type": "display_data"
    }
   ],
   "source": [
    "from pandas import read_csv\n",
    "from matplotlib import pyplot\n",
    "\n",
    "# load dataset\n",
    "dataset = read_csv('/home/garvit/Datasets/time series/pollution/pollution.csv', header=0, index_col=0)\n",
    "values = dataset.values\n",
    "\n",
    "# specify columns to plot\n",
    "groups = [0, 1, 2, 3, 5, 6, 7]\n",
    "i = 1\n",
    "\n",
    "# plot each column\n",
    "pyplot.figure(figsize=(18, 12))\n",
    "for group in groups:\n",
    "    pyplot.subplot(len(groups), 1, i)\n",
    "    pyplot.plot(values[:, group])\n",
    "    pyplot.title(dataset.columns[group], y=0.5, loc='right')\n",
    "    i += 1\n",
    "pyplot.show()"
   ]
  },
  {
   "cell_type": "markdown",
   "metadata": {},
   "source": [
    "### Multivariate LSTM Forecast Model"
   ]
  },
  {
   "cell_type": "markdown",
   "metadata": {},
   "source": [
    "**LSTM Data Preparation**"
   ]
  },
  {
   "cell_type": "code",
   "execution_count": 44,
   "metadata": {
    "ExecuteTime": {
     "end_time": "2020-10-16T20:45:16.362714Z",
     "start_time": "2020-10-16T20:45:16.341252Z"
    }
   },
   "outputs": [],
   "source": [
    "from pandas import DataFrame\n",
    "from pandas import concat\n",
    " \n",
    "def series_to_supervised(data, n_in=1, n_out=1, dropnan=True):\n",
    "    \"\"\"\n",
    "    Frame a time series as a supervised learning dataset.\n",
    "    Arguments:\n",
    "        data: Sequence of observations as a list or NumPy array.\n",
    "        n_in: Number of lag observations as input (X).\n",
    "        n_out: Number of observations as output (y).\n",
    "        dropnan: Boolean whether or not to drop rows with NaN values.\n",
    "    Returns:\n",
    "        Pandas DataFrame of series framed for supervised learning.\n",
    "    \"\"\"\n",
    "    n_vars = 1 if type(data) is list else data.shape[1]\n",
    "    df = DataFrame(data)\n",
    "    cols, names = list(), list()\n",
    "    # input sequence (t-n, ... t-1)\n",
    "    for i in range(n_in, 0, -1):\n",
    "        cols.append(df.shift(i))\n",
    "        names += [('var%d(t-%d)' % (j+1, i)) for j in range(n_vars)]\n",
    "    # forecast sequence (t, t+1, ... t+n)\n",
    "    for i in range(0, n_out):\n",
    "        cols.append(df.shift(-i))\n",
    "        if i == 0:\n",
    "            names += [('var%d(t)' % (j+1)) for j in range(n_vars)]\n",
    "        else:\n",
    "            names += [('var%d(t+%d)' % (j+1, i)) for j in range(n_vars)]\n",
    "    # put it all together\n",
    "    agg = concat(cols, axis=1)\n",
    "    agg.columns = names\n",
    "    # drop rows with NaN values\n",
    "    if dropnan:\n",
    "        agg.dropna(inplace=True)\n",
    "    return agg"
   ]
  },
  {
   "cell_type": "code",
   "execution_count": 55,
   "metadata": {
    "ExecuteTime": {
     "end_time": "2020-10-16T20:48:41.541269Z",
     "start_time": "2020-10-16T20:48:41.485677Z"
    }
   },
   "outputs": [
    {
     "data": {
      "text/html": [
       "<div>\n",
       "<style scoped>\n",
       "    .dataframe tbody tr th:only-of-type {\n",
       "        vertical-align: middle;\n",
       "    }\n",
       "\n",
       "    .dataframe tbody tr th {\n",
       "        vertical-align: top;\n",
       "    }\n",
       "\n",
       "    .dataframe thead th {\n",
       "        text-align: right;\n",
       "    }\n",
       "</style>\n",
       "<table border=\"1\" class=\"dataframe\">\n",
       "  <thead>\n",
       "    <tr style=\"text-align: right;\">\n",
       "      <th></th>\n",
       "      <th>var1(t-1)</th>\n",
       "      <th>var2(t-1)</th>\n",
       "      <th>var3(t-1)</th>\n",
       "      <th>var4(t-1)</th>\n",
       "      <th>var5(t-1)</th>\n",
       "      <th>var6(t-1)</th>\n",
       "      <th>var7(t-1)</th>\n",
       "      <th>var8(t-1)</th>\n",
       "      <th>var1(t)</th>\n",
       "    </tr>\n",
       "  </thead>\n",
       "  <tbody>\n",
       "    <tr>\n",
       "      <th>1</th>\n",
       "      <td>0.129779</td>\n",
       "      <td>0.352941</td>\n",
       "      <td>0.245902</td>\n",
       "      <td>0.527273</td>\n",
       "      <td>0.666667</td>\n",
       "      <td>0.002290</td>\n",
       "      <td>0.000000</td>\n",
       "      <td>0.0</td>\n",
       "      <td>0.148893</td>\n",
       "    </tr>\n",
       "    <tr>\n",
       "      <th>2</th>\n",
       "      <td>0.148893</td>\n",
       "      <td>0.367647</td>\n",
       "      <td>0.245902</td>\n",
       "      <td>0.527273</td>\n",
       "      <td>0.666667</td>\n",
       "      <td>0.003811</td>\n",
       "      <td>0.000000</td>\n",
       "      <td>0.0</td>\n",
       "      <td>0.159960</td>\n",
       "    </tr>\n",
       "    <tr>\n",
       "      <th>3</th>\n",
       "      <td>0.159960</td>\n",
       "      <td>0.426471</td>\n",
       "      <td>0.229508</td>\n",
       "      <td>0.545454</td>\n",
       "      <td>0.666667</td>\n",
       "      <td>0.005332</td>\n",
       "      <td>0.000000</td>\n",
       "      <td>0.0</td>\n",
       "      <td>0.182093</td>\n",
       "    </tr>\n",
       "    <tr>\n",
       "      <th>4</th>\n",
       "      <td>0.182093</td>\n",
       "      <td>0.485294</td>\n",
       "      <td>0.229508</td>\n",
       "      <td>0.563637</td>\n",
       "      <td>0.666667</td>\n",
       "      <td>0.008391</td>\n",
       "      <td>0.037037</td>\n",
       "      <td>0.0</td>\n",
       "      <td>0.138833</td>\n",
       "    </tr>\n",
       "    <tr>\n",
       "      <th>5</th>\n",
       "      <td>0.138833</td>\n",
       "      <td>0.485294</td>\n",
       "      <td>0.229508</td>\n",
       "      <td>0.563637</td>\n",
       "      <td>0.666667</td>\n",
       "      <td>0.009912</td>\n",
       "      <td>0.074074</td>\n",
       "      <td>0.0</td>\n",
       "      <td>0.109658</td>\n",
       "    </tr>\n",
       "  </tbody>\n",
       "</table>\n",
       "</div>"
      ],
      "text/plain": [
       "   var1(t-1)  var2(t-1)  var3(t-1)  var4(t-1)  var5(t-1)  var6(t-1)  \\\n",
       "1   0.129779   0.352941   0.245902   0.527273   0.666667   0.002290   \n",
       "2   0.148893   0.367647   0.245902   0.527273   0.666667   0.003811   \n",
       "3   0.159960   0.426471   0.229508   0.545454   0.666667   0.005332   \n",
       "4   0.182093   0.485294   0.229508   0.563637   0.666667   0.008391   \n",
       "5   0.138833   0.485294   0.229508   0.563637   0.666667   0.009912   \n",
       "\n",
       "   var7(t-1)  var8(t-1)   var1(t)  \n",
       "1   0.000000        0.0  0.148893  \n",
       "2   0.000000        0.0  0.159960  \n",
       "3   0.000000        0.0  0.182093  \n",
       "4   0.037037        0.0  0.138833  \n",
       "5   0.074074        0.0  0.109658  "
      ]
     },
     "execution_count": 55,
     "metadata": {},
     "output_type": "execute_result"
    }
   ],
   "source": [
    "values = dataset.values\n",
    "\n",
    "# integer encode 'direction' feature\n",
    "from sklearn.preprocessing import LabelEncoder\n",
    "encoder = LabelEncoder()\n",
    "values[:,4] = encoder.fit_transform(values[:,4])\n",
    "\n",
    "# ensure all data is float\n",
    "values = values.astype('float32')\n",
    "\n",
    "# normalize features\n",
    "from sklearn.preprocessing import MinMaxScaler\n",
    "scaler = MinMaxScaler(feature_range=(0, 1))\n",
    "scaled = scaler.fit_transform(values)\n",
    "\n",
    "# frame as supervised learning\n",
    "reframed = series_to_supervised(scaled, 1, 1)\n",
    "\n",
    "# drop columns we don't want to predict\n",
    "reframed.drop(reframed.columns[[9,10,11,12,13,14,15]], axis=1, inplace=True)\n",
    "reframed.head()"
   ]
  },
  {
   "cell_type": "markdown",
   "metadata": {},
   "source": [
    "## Define and Fit Model"
   ]
  },
  {
   "cell_type": "code",
   "execution_count": 60,
   "metadata": {
    "ExecuteTime": {
     "end_time": "2020-10-16T20:49:47.432422Z",
     "start_time": "2020-10-16T20:49:47.424634Z"
    }
   },
   "outputs": [
    {
     "name": "stdout",
     "output_type": "stream",
     "text": [
      "(8760, 1, 8) (8760,) (35039, 1, 8) (35039,)\n"
     ]
    }
   ],
   "source": [
    "# split into train and test sets\n",
    "values = reframed.values\n",
    "n_train_hours = 365 * 24\n",
    "train = values[:n_train_hours, :]\n",
    "test = values[n_train_hours:, :]\n",
    "\n",
    "# split into input and outputs\n",
    "train_X, train_y = train[:, :-1], train[:, -1]\n",
    "test_X, test_y = test[:, :-1], test[:, -1]\n",
    "\n",
    "# reshape input to be 3D [samples, timesteps, features]\n",
    "train_X = train_X.reshape((train_X.shape[0], 1, train_X.shape[1]))\n",
    "test_X = test_X.reshape((test_X.shape[0], 1, test_X.shape[1]))\n",
    "print(train_X.shape, train_y.shape, test_X.shape, test_y.shape)"
   ]
  },
  {
   "cell_type": "code",
   "execution_count": 61,
   "metadata": {
    "ExecuteTime": {
     "end_time": "2020-10-16T20:50:12.946730Z",
     "start_time": "2020-10-16T20:49:49.411025Z"
    }
   },
   "outputs": [],
   "source": [
    "from matplotlib import pyplot\n",
    "\n",
    "from keras.layers import LSTM, Dense\n",
    "from keras.models import Sequential\n",
    "\n",
    "# design network\n",
    "model = Sequential()\n",
    "model.add(LSTM(50, input_shape=(train_X.shape[1], train_X.shape[2])))\n",
    "model.add(Dense(1))\n",
    "model.compile(loss='mae', optimizer='adam')\n",
    "\n",
    "# fit network\n",
    "history = model.fit(train_X, train_y, epochs=50, batch_size=72, validation_data=(test_X, test_y), verbose=0, shuffle=False)"
   ]
  },
  {
   "cell_type": "code",
   "execution_count": 62,
   "metadata": {
    "ExecuteTime": {
     "end_time": "2020-10-16T20:50:16.650621Z",
     "start_time": "2020-10-16T20:50:16.517693Z"
    }
   },
   "outputs": [
    {
     "data": {
      "image/png": "[encoded data removed]",
      "text/plain": [
       "<Figure size 432x288 with 1 Axes>"
      ]
     },
     "metadata": {
      "needs_background": "light"
     },
     "output_type": "display_data"
    }
   ],
   "source": [
    "# plot history\n",
    "pyplot.plot(history.history['loss'], label='train')\n",
    "pyplot.plot(history.history['val_loss'], label='test')\n",
    "pyplot.legend()\n",
    "pyplot.show()"
   ]
  },
  {
   "cell_type": "markdown",
   "metadata": {},
   "source": [
    "## Evaluate Model\n"
   ]
  },
  {
   "cell_type": "code",
   "execution_count": 63,
   "metadata": {
    "ExecuteTime": {
     "end_time": "2020-10-16T20:50:26.506179Z",
     "start_time": "2020-10-16T20:50:26.034716Z"
    }
   },
   "outputs": [
    {
     "name": "stdout",
     "output_type": "stream",
     "text": [
      "Test RMSE: 26.398\n"
     ]
    }
   ],
   "source": [
    "from math import sqrt\n",
    "import numpy as np\n",
    "from sklearn.metrics import mean_squared_error\n",
    "\n",
    "# make a prediction\n",
    "yhat = model.predict(test_X)\n",
    "test_X = test_X.reshape((test_X.shape[0], test_X.shape[2]))\n",
    "\n",
    "# invert scaling for forecast\n",
    "inv_yhat = np.concatenate((yhat, test_X[:, 1:]), axis=1)\n",
    "inv_yhat = scaler.inverse_transform(inv_yhat)\n",
    "inv_yhat = inv_yhat[:,0]\n",
    "\n",
    "# invert scaling for actual\n",
    "test_y = test_y.reshape((len(test_y), 1))\n",
    "inv_y = np.concatenate((test_y, test_X[:, 1:]), axis=1)\n",
    "inv_y = scaler.inverse_transform(inv_y)\n",
    "inv_y = inv_y[:,0]\n",
    "\n",
    "# calculate RMSE\n",
    "rmse = sqrt(mean_squared_error(inv_y, inv_yhat))\n",
    "print('Test RMSE: %.3f' % rmse)"
   ]
  },
  {
   "cell_type": "code",
   "execution_count": null,
   "metadata": {},
   "outputs": [],
   "source": []
  },
  {
   "cell_type": "code",
   "execution_count": null,
   "metadata": {},
   "outputs": [],
   "source": []
  },
  {
   "cell_type": "code",
   "execution_count": null,
   "metadata": {},
   "outputs": [],
   "source": []
  }
 ],
 "metadata": {
  "kernelspec": {
   "display_name": "Python 3",
   "language": "python",
   "name": "python3"
  },
  "language_info": {
   "codemirror_mode": {
    "name": "ipython",
    "version": 3
   },
   "file_extension": ".py",
   "mimetype": "text/x-python",
   "name": "python",
   "nbconvert_exporter": "python",
   "pygments_lexer": "ipython3",
   "version": "3.7.4"
  }
 },
 "nbformat": 4,
 "nbformat_minor": 4
}
